{
 "cells": [
  {
   "cell_type": "markdown",
   "metadata": {},
   "source": [
    "# Numpy\n",
    "\n",
    "## Numpy Array\n",
    "\n",
    "Using a **NumPy array** instead of a Python list is advantageous in many cases, especially when working with large datasets, numerical computations, or when performance and memory efficiency are important.\n",
    "\n",
    "Here are key reasons and scenarios when you should use **NumPy arrays** over Python lists:\n",
    "\n",
    "### 1. **Performance and Speed**\n",
    "- **Why**: NumPy arrays are much faster than Python lists for numerical operations due to their implementation in C and the use of contiguous memory blocks. Lists are heterogeneous and more flexible but come with significant overhead.\n",
    "- **When to Use**: When performing operations that involve large datasets or repeated numerical computations (e.g., element-wise addition, multiplication, etc.), NumPy arrays are significantly faster.\n",
    "  \n",
    "    **Example**: Adding two arrays\n",
    "    ```python\n",
    "    import numpy as np\n",
    "    arr1 = np.array([1, 2, 3])\n",
    "    arr2 = np.array([4, 5, 6])\n",
    "    result = arr1 + arr2  # Element-wise addition\n",
    "    ```\n",
    "    The same operation using lists would involve looping through the elements, making it slower:\n",
    "    ```python\n",
    "    list1 = [1, 2, 3]\n",
    "    list2 = [4, 5, 6]\n",
    "    result = [x + y for x, y in zip(list1, list2)]\n",
    "    ```\n",
    "\n",
    "### 2. **Memory Efficiency**\n",
    "- **Why**: NumPy arrays use much less memory than Python lists because they store elements of the <u>same data type</u> in contiguous memory locations. Python lists are <u>dynamic and store references to objects</u>, which leads to overhead in memory usage.\n",
    "- **When to Use**: When you need to store large datasets in memory, especially numerical data (e.g., matrices, time series data), NumPy arrays are more efficient in terms of memory.\n",
    "\n",
    "    **Example**: A list with integers has to store not only the integers but also the references to them, while NumPy arrays store the integers directly.\n",
    "    ```python\n",
    "    list_data = [1, 2, 3, 4, 5]\n",
    "    numpy_data = np.array([1, 2, 3, 4, 5])\n",
    "    ```\n",
    "\n",
    "### 3. **Vectorized Operations**\n",
    "- **Why**: NumPy arrays support **vectorized operations**, which allow for applying mathematical operations directly on arrays without the need for explicit loops. This results in concise and faster code execution.\n",
    "- **When to Use**: When you need to perform operations on entire arrays or matrices at once (e.g., matrix multiplication, element-wise addition, etc.).\n",
    "\n",
    "    **Example**: Applying a mathematical function element-wise to all elements in an array.\n",
    "    ```python\n",
    "    arr = np.array([1, 2, 3, 4, 5])\n",
    "    result = arr * 2  # Element-wise multiplication\n",
    "    ```\n",
    "\n",
    "    In a Python list, you’d have to use a loop:\n",
    "    ```python\n",
    "    list_data = [1, 2, 3, 4, 5]\n",
    "    result = [x * 2 for x in list_data]\n",
    "    ```\n",
    "\n",
    "### 4. **Multidimensional Arrays**\n",
    "- **Why**: NumPy supports multidimensional arrays (e.g., 2D matrices, 3D tensors), making it much more powerful for working with complex datasets like matrices, image data, and time series data. Python lists can be used to simulate multi-dimensional arrays, but they are less efficient and more cumbersome.\n",
    "- **When to Use**: When working with higher-dimensional data, such as matrices or tensors (e.g., in machine learning, scientific computing, or image processing).\n",
    "  \n",
    "    **Example**: Creating a 2D matrix (a list of lists in Python) and multiplying matrices:\n",
    "    ```python\n",
    "    matrix1 = np.array([[1, 2], [3, 4]])\n",
    "    matrix2 = np.array([[5, 6], [7, 8]])\n",
    "    result = np.dot(matrix1, matrix2)  # Matrix multiplication\n",
    "    ```\n",
    "\n",
    "    In Python lists, this would require manually implementing the multiplication.\n",
    "\n",
    "### 5. **Broadcasting**\n",
    "- **Why**: NumPy arrays support **broadcasting**, allowing operations between arrays of different shapes. This feature makes operations like adding a scalar to an array or adding arrays of different sizes much easier without the need for explicit looping.\n",
    "- **When to Use**: When you need to perform operations between arrays of different shapes without writing complex loops.\n",
    "\n",
    "    **Example**: Adding a scalar to all elements in an array:\n",
    "    ```python\n",
    "    arr = np.array([1, 2, 3])\n",
    "    result = arr + 10  # Adds 10 to each element of the array\n",
    "    ```\n",
    "\n",
    "    Broadcasting also works between arrays of different shapes:\n",
    "    ```python\n",
    "    arr = np.array([[1, 2, 3], [4, 5, 6]])\n",
    "    vector = np.array([1, 2, 3])\n",
    "    result = arr + vector  # Broadcasts the vector across each row of the matrix\n",
    "    ```\n",
    "\n",
    "### 6. **Advanced Indexing and Slicing**\n",
    "- **Why**: NumPy arrays provide powerful **indexing and slicing capabilities**, including boolean indexing, fancy indexing, and multidimensional slicing. Python lists, in contrast, offer limited indexing and slicing options.\n",
    "- **When to Use**: When you need to manipulate or extract subsets of data using complex indexing and slicing operations.\n",
    "\n",
    "    **Example**: Boolean indexing:\n",
    "    ```python\n",
    "    arr = np.array([1, 2, 3, 4, 5])\n",
    "    result = arr[arr > 3]  # Extracts elements greater than 3\n",
    "    ```\n",
    "    Multidimensional slicing:\n",
    "    ```python\n",
    "    arr = np.array([[1, 2, 3], [4, 5, 6]])\n",
    "    result = arr[:, 1]  # Extracts the second column\n",
    "    ```\n",
    "\n",
    "### 7. **Mathematical and Statistical Functions**\n",
    "- **Why**: NumPy provides a vast library of built-in **mathematical, statistical, and linear algebra functions**. These functions are highly optimized and designed for efficient numerical computations on large arrays.\n",
    "- **When to Use**: When you need to perform complex numerical operations (e.g., mean, median, standard deviation, matrix multiplication, etc.) on large datasets.\n",
    "\n",
    "    **Example**: Calculating mean, sum, and standard deviation of an array:\n",
    "    ```python\n",
    "    arr = np.array([1, 2, 3, 4, 5])\n",
    "    mean = np.mean(arr)\n",
    "    total_sum = np.sum(arr)\n",
    "    std_dev = np.std(arr)\n",
    "    ```\n",
    "\n",
    "### 8. **Interoperability with Other Libraries**\n",
    "- **Why**: NumPy arrays are used as the standard array type in many **scientific libraries** such as Pandas, SciPy, and TensorFlow. Python lists, while more general-purpose, are not optimized for such tasks.\n",
    "- **When to Use**: When you're working with machine learning, data science, or numerical computing libraries, it's best to use NumPy arrays for seamless integration.\n",
    "\n",
    "---\n",
    "\n",
    "### Summary: When to Use NumPy Arrays Over Lists\n",
    "\n",
    "| **Reason**                             | **Use NumPy Arrays When**                                                     |\n",
    "|----------------------------------------|-------------------------------------------------------------------------------|\n",
    "| **Performance and Speed**              | You need faster computation on large datasets.                                |\n",
    "| **Memory Efficiency**                  | You need to store large amounts of data and optimize memory usage.            |\n",
    "| **Vectorized Operations**              | You want to perform element-wise operations efficiently without loops.        |\n",
    "| **Multidimensional Arrays**            | You work with matrices or higher-dimensional data (e.g., images, time series).|\n",
    "| **Broadcasting**                       | You need to perform operations on arrays of different shapes.                 |\n",
    "| **Advanced Indexing and Slicing**      | You need powerful, complex slicing and indexing capabilities.                 |\n",
    "| **Mathematical and Statistical Functions** | You need to perform efficient numerical computations (e.g., mean, standard deviation). |\n",
    "| **Interoperability with Libraries**    | You work with libraries like Pandas, SciPy, TensorFlow, etc. that use NumPy arrays. |\n",
    "\n",
    "In summary, NumPy arrays are more suitable when working with **large numerical datasets** and **performance-critical applications**, while Python lists are more general-purpose and flexible but less efficient for numerical operations.\n"
   ]
  },
  {
   "cell_type": "code",
   "execution_count": 22,
   "metadata": {},
   "outputs": [
    {
     "name": "stdout",
     "output_type": "stream",
     "text": [
      "[[1 2]\n",
      " [3 4]]\n",
      "[[5 6]\n",
      " [7 8]]\n",
      "[[19 22]\n",
      " [43 50]]\n"
     ]
    }
   ],
   "source": [
    "import numpy as np\n",
    "matrix1 = np.array([[1, 2], [3, 4]])\n",
    "matrix2 = np.array([[5, 6], [7, 8]])\n",
    "result = np.dot(matrix1, matrix2)\n",
    "print(matrix1)\n",
    "print(matrix2)\n",
    "print(result)"
   ]
  },
  {
   "cell_type": "code",
   "execution_count": 4,
   "metadata": {},
   "outputs": [
    {
     "name": "stdout",
     "output_type": "stream",
     "text": [
      "[[2 4 6]\n",
      " [5 7 9]]\n"
     ]
    }
   ],
   "source": [
    "arr = np.array([[1, 2, 3], [4, 5, 6]])\n",
    "vector = np.array([1, 2, 3])\n",
    "result = arr + vector  # Broadcasts the vector across each row of the matrix\n",
    "print(result)"
   ]
  },
  {
   "cell_type": "code",
   "execution_count": 24,
   "metadata": {},
   "outputs": [
    {
     "name": "stdout",
     "output_type": "stream",
     "text": [
      "[[5, 10, 15], [20, 25, 30], [35, 40, 45]]\n",
      "[[ 5 10 15]\n",
      " [20 25 30]\n",
      " [35 40 45]]\n"
     ]
    }
   ],
   "source": [
    "input_array1 = np.array([[1, 2, 3], [4, 5, 6], [7, 8, 9]])\n",
    "input_list1 = [[1, 2, 3], [4, 5, 6], [7, 8, 9]]\n",
    "\n",
    "# broadcasting to perform element-wise operation\n",
    "output_array1 = input_array1*5\n",
    "print(list(map(lambda x: [5*i for i in x], input_list1)))\n",
    "print(output_array1)"
   ]
  },
  {
   "cell_type": "code",
   "execution_count": 26,
   "metadata": {},
   "outputs": [
    {
     "name": "stdout",
     "output_type": "stream",
     "text": [
      "[0, 2, 4, 6, 8]\n",
      "[0 2 4 6 8]\n"
     ]
    }
   ],
   "source": [
    "input_array2 = np.array([0, 1, 2, 3, 4, 5, 6, 7, 8, 9])\n",
    "input_list2 = [0, 1, 2, 3, 4, 5, 6, 7, 8, 9]\n",
    "\n",
    "# filter even numbers\n",
    "output_array2 = input_array2[input_array2 % 2 == 0]\n",
    "print(list(filter(lambda x: x % 2 == 0, input_list2)))\n",
    "print(output_array2)"
   ]
  },
  {
   "cell_type": "code",
   "execution_count": 27,
   "metadata": {},
   "outputs": [
    {
     "name": "stdout",
     "output_type": "stream",
     "text": [
      "[[1, 4], [9, 16], [25, 36]]\n",
      "[[ 1  4]\n",
      " [ 9 16]\n",
      " [25 36]]\n"
     ]
    }
   ],
   "source": [
    "input_array3 = np.array([[1, 2], [3, 4], [5, 6]])\n",
    "input_list3 = [[1, 2], [3, 4], [5, 6]]\n",
    "\n",
    "output_array3 = input_array3*input_array3\n",
    "print([[i*i for i in j] for j in input_list3])\n",
    "print(output_array3)"
   ]
  },
  {
   "cell_type": "markdown",
   "metadata": {},
   "source": [
    "# Pandas DataFrame\n",
    "## `apply()` method\n",
    "\n",
    "The `.apply()` method is very useful when you need to create new columns in your DataFrame.\n",
    "\n",
    "**Syntax**: \n",
    "\n",
    "```df.apply(function)```\n",
    "\n",
    "```df.apply(function, axis= )```\n",
    "- axis=0 -> function is applied over columns\n",
    "- axis=1 -> function is applied over \n",
    "\n",
    "```df.apply(function, result_type= )``` \n",
    "- result_type='expand' -> function is applied over columns and returns a DataFrame\n",
    "- result_type='reduce' -> function is applied over rows and returns a Series\n",
    "- result_type='broadcast' -> function is applied over rows and returns a scalar\n",
    "- result_type='series' -> function is applied over columns and returns a Series\n",
    "- result_type='dataframe' -> function is applied over rows and returns a DataFrame\n",
    "\n",
    "```df.apply(function, args= ) ```\n",
    "- function(pd.Series, arg1, arg2, ..., kwarg1=val1, kwarg2=val2, ...)\n",
    "- args -> [arg1, arg2, ...]"
   ]
  },
  {
   "cell_type": "code",
   "execution_count": 6,
   "metadata": {},
   "outputs": [
    {
     "data": {
      "text/html": [
       "<div>\n",
       "<style scoped>\n",
       "    .dataframe tbody tr th:only-of-type {\n",
       "        vertical-align: middle;\n",
       "    }\n",
       "\n",
       "    .dataframe tbody tr th {\n",
       "        vertical-align: top;\n",
       "    }\n",
       "\n",
       "    .dataframe thead th {\n",
       "        text-align: right;\n",
       "    }\n",
       "</style>\n",
       "<table border=\"1\" class=\"dataframe\">\n",
       "  <thead>\n",
       "    <tr style=\"text-align: right;\">\n",
       "      <th></th>\n",
       "      <th>math</th>\n",
       "      <th>science</th>\n",
       "      <th>english</th>\n",
       "    </tr>\n",
       "  </thead>\n",
       "  <tbody>\n",
       "    <tr>\n",
       "      <th>0</th>\n",
       "      <td>85</td>\n",
       "      <td>88</td>\n",
       "      <td>92</td>\n",
       "    </tr>\n",
       "    <tr>\n",
       "      <th>1</th>\n",
       "      <td>90</td>\n",
       "      <td>87</td>\n",
       "      <td>91</td>\n",
       "    </tr>\n",
       "    <tr>\n",
       "      <th>2</th>\n",
       "      <td>78</td>\n",
       "      <td>91</td>\n",
       "      <td>85</td>\n",
       "    </tr>\n",
       "    <tr>\n",
       "      <th>3</th>\n",
       "      <td>92</td>\n",
       "      <td>89</td>\n",
       "      <td>88</td>\n",
       "    </tr>\n",
       "    <tr>\n",
       "      <th>4</th>\n",
       "      <td>88</td>\n",
       "      <td>90</td>\n",
       "      <td>95</td>\n",
       "    </tr>\n",
       "  </tbody>\n",
       "</table>\n",
       "</div>"
      ],
      "text/plain": [
       "   math  science  english\n",
       "0    85       88       92\n",
       "1    90       87       91\n",
       "2    78       91       85\n",
       "3    92       89       88\n",
       "4    88       90       95"
      ]
     },
     "execution_count": 6,
     "metadata": {},
     "output_type": "execute_result"
    }
   ],
   "source": [
    "import pandas as pd\n",
    "\n",
    "scores_df = pd.DataFrame({\n",
    "    'math': [85, 90, 78, 92, 88],\n",
    "    'science': [88, 87, 91, 89, 90],\n",
    "    'english': [92, 91, 85, 88, 95]\n",
    "})\n",
    "scores_df\n"
   ]
  },
  {
   "cell_type": "code",
   "execution_count": 8,
   "metadata": {},
   "outputs": [
    {
     "data": {
      "text/html": [
       "<div>\n",
       "<style scoped>\n",
       "    .dataframe tbody tr th:only-of-type {\n",
       "        vertical-align: middle;\n",
       "    }\n",
       "\n",
       "    .dataframe tbody tr th {\n",
       "        vertical-align: top;\n",
       "    }\n",
       "\n",
       "    .dataframe thead th {\n",
       "        text-align: right;\n",
       "    }\n",
       "</style>\n",
       "<table border=\"1\" class=\"dataframe\">\n",
       "  <thead>\n",
       "    <tr style=\"text-align: right;\">\n",
       "      <th></th>\n",
       "      <th>math</th>\n",
       "      <th>science</th>\n",
       "      <th>english</th>\n",
       "    </tr>\n",
       "  </thead>\n",
       "  <tbody>\n",
       "    <tr>\n",
       "      <th>0</th>\n",
       "      <td>9.219544</td>\n",
       "      <td>9.380832</td>\n",
       "      <td>9.591663</td>\n",
       "    </tr>\n",
       "    <tr>\n",
       "      <th>1</th>\n",
       "      <td>9.486833</td>\n",
       "      <td>9.327379</td>\n",
       "      <td>9.539392</td>\n",
       "    </tr>\n",
       "    <tr>\n",
       "      <th>2</th>\n",
       "      <td>8.831761</td>\n",
       "      <td>9.539392</td>\n",
       "      <td>9.219544</td>\n",
       "    </tr>\n",
       "    <tr>\n",
       "      <th>3</th>\n",
       "      <td>9.591663</td>\n",
       "      <td>9.433981</td>\n",
       "      <td>9.380832</td>\n",
       "    </tr>\n",
       "    <tr>\n",
       "      <th>4</th>\n",
       "      <td>9.380832</td>\n",
       "      <td>9.486833</td>\n",
       "      <td>9.746794</td>\n",
       "    </tr>\n",
       "  </tbody>\n",
       "</table>\n",
       "</div>"
      ],
      "text/plain": [
       "       math   science   english\n",
       "0  9.219544  9.380832  9.591663\n",
       "1  9.486833  9.327379  9.539392\n",
       "2  8.831761  9.539392  9.219544\n",
       "3  9.591663  9.433981  9.380832\n",
       "4  9.380832  9.486833  9.746794"
      ]
     },
     "execution_count": 8,
     "metadata": {},
     "output_type": "execute_result"
    }
   ],
   "source": [
    "import numpy as np\n",
    "\n",
    "scores_df.apply(np.sqrt)"
   ]
  },
  {
   "cell_type": "code",
   "execution_count": 9,
   "metadata": {},
   "outputs": [
    {
     "data": {
      "text/plain": [
       "math       86.6\n",
       "science    89.0\n",
       "english    90.2\n",
       "dtype: float64"
      ]
     },
     "execution_count": 9,
     "metadata": {},
     "output_type": "execute_result"
    }
   ],
   "source": [
    "scores_df.apply(np.mean)"
   ]
  },
  {
   "cell_type": "code",
   "execution_count": 11,
   "metadata": {},
   "outputs": [
    {
     "data": {
      "text/html": [
       "<div>\n",
       "<style scoped>\n",
       "    .dataframe tbody tr th:only-of-type {\n",
       "        vertical-align: middle;\n",
       "    }\n",
       "\n",
       "    .dataframe tbody tr th {\n",
       "        vertical-align: top;\n",
       "    }\n",
       "\n",
       "    .dataframe thead th {\n",
       "        text-align: right;\n",
       "    }\n",
       "</style>\n",
       "<table border=\"1\" class=\"dataframe\">\n",
       "  <thead>\n",
       "    <tr style=\"text-align: right;\">\n",
       "      <th></th>\n",
       "      <th>math</th>\n",
       "      <th>science</th>\n",
       "      <th>english</th>\n",
       "    </tr>\n",
       "  </thead>\n",
       "  <tbody>\n",
       "    <tr>\n",
       "      <th>0</th>\n",
       "      <td>42.5</td>\n",
       "      <td>44.0</td>\n",
       "      <td>46.0</td>\n",
       "    </tr>\n",
       "    <tr>\n",
       "      <th>1</th>\n",
       "      <td>45.0</td>\n",
       "      <td>43.5</td>\n",
       "      <td>45.5</td>\n",
       "    </tr>\n",
       "    <tr>\n",
       "      <th>2</th>\n",
       "      <td>39.0</td>\n",
       "      <td>45.5</td>\n",
       "      <td>42.5</td>\n",
       "    </tr>\n",
       "    <tr>\n",
       "      <th>3</th>\n",
       "      <td>46.0</td>\n",
       "      <td>44.5</td>\n",
       "      <td>44.0</td>\n",
       "    </tr>\n",
       "    <tr>\n",
       "      <th>4</th>\n",
       "      <td>44.0</td>\n",
       "      <td>45.0</td>\n",
       "      <td>47.5</td>\n",
       "    </tr>\n",
       "  </tbody>\n",
       "</table>\n",
       "</div>"
      ],
      "text/plain": [
       "   math  science  english\n",
       "0  42.5     44.0     46.0\n",
       "1  45.0     43.5     45.5\n",
       "2  39.0     45.5     42.5\n",
       "3  46.0     44.5     44.0\n",
       "4  44.0     45.0     47.5"
      ]
     },
     "execution_count": 11,
     "metadata": {},
     "output_type": "execute_result"
    }
   ],
   "source": [
    "def divide_by_two(x):\n",
    "    return x / 2\n",
    "\n",
    "scores_df.apply(divide_by_two)"
   ]
  },
  {
   "cell_type": "code",
   "execution_count": 10,
   "metadata": {},
   "outputs": [
    {
     "data": {
      "text/html": [
       "<div>\n",
       "<style scoped>\n",
       "    .dataframe tbody tr th:only-of-type {\n",
       "        vertical-align: middle;\n",
       "    }\n",
       "\n",
       "    .dataframe tbody tr th {\n",
       "        vertical-align: top;\n",
       "    }\n",
       "\n",
       "    .dataframe thead th {\n",
       "        text-align: right;\n",
       "    }\n",
       "</style>\n",
       "<table border=\"1\" class=\"dataframe\">\n",
       "  <thead>\n",
       "    <tr style=\"text-align: right;\">\n",
       "      <th></th>\n",
       "      <th>math</th>\n",
       "      <th>science</th>\n",
       "      <th>english</th>\n",
       "    </tr>\n",
       "  </thead>\n",
       "  <tbody>\n",
       "    <tr>\n",
       "      <th>0</th>\n",
       "      <td>42.5</td>\n",
       "      <td>44.0</td>\n",
       "      <td>46.0</td>\n",
       "    </tr>\n",
       "    <tr>\n",
       "      <th>1</th>\n",
       "      <td>45.0</td>\n",
       "      <td>43.5</td>\n",
       "      <td>45.5</td>\n",
       "    </tr>\n",
       "    <tr>\n",
       "      <th>2</th>\n",
       "      <td>39.0</td>\n",
       "      <td>45.5</td>\n",
       "      <td>42.5</td>\n",
       "    </tr>\n",
       "    <tr>\n",
       "      <th>3</th>\n",
       "      <td>46.0</td>\n",
       "      <td>44.5</td>\n",
       "      <td>44.0</td>\n",
       "    </tr>\n",
       "    <tr>\n",
       "      <th>4</th>\n",
       "      <td>44.0</td>\n",
       "      <td>45.0</td>\n",
       "      <td>47.5</td>\n",
       "    </tr>\n",
       "  </tbody>\n",
       "</table>\n",
       "</div>"
      ],
      "text/plain": [
       "   math  science  english\n",
       "0  42.5     44.0     46.0\n",
       "1  45.0     43.5     45.5\n",
       "2  39.0     45.5     42.5\n",
       "3  46.0     44.5     44.0\n",
       "4  44.0     45.0     47.5"
      ]
     },
     "execution_count": 10,
     "metadata": {},
     "output_type": "execute_result"
    }
   ],
   "source": [
    "scores_df.apply(lambda x: x / 2)"
   ]
  },
  {
   "cell_type": "code",
   "execution_count": 13,
   "metadata": {},
   "outputs": [
    {
     "data": {
      "text/plain": [
       "math       86.6\n",
       "science    89.0\n",
       "english    90.2\n",
       "dtype: float64"
      ]
     },
     "execution_count": 13,
     "metadata": {},
     "output_type": "execute_result"
    }
   ],
   "source": [
    "scores_df.apply(np.mean, axis=0) # apply function over columns"
   ]
  },
  {
   "cell_type": "code",
   "execution_count": 14,
   "metadata": {},
   "outputs": [
    {
     "data": {
      "text/plain": [
       "0    88.333333\n",
       "1    89.333333\n",
       "2    84.666667\n",
       "3    89.666667\n",
       "4    91.000000\n",
       "dtype: float64"
      ]
     },
     "execution_count": 14,
     "metadata": {},
     "output_type": "execute_result"
    }
   ],
   "source": [
    "scores_df.apply(np.mean, axis=1) # apply function over rows"
   ]
  },
  {
   "cell_type": "code",
   "execution_count": 20,
   "metadata": {},
   "outputs": [
    {
     "name": "stdout",
     "output_type": "stream",
     "text": [
      "   math  science  english\n",
      "0    78       87       85\n",
      "1    92       91       95\n",
      "   math  science  english\n",
      "0    78       87       85\n",
      "1    92       91       95\n",
      "    0   1\n",
      "0  85  92\n",
      "1  87  91\n",
      "2  78  91\n",
      "3  88  92\n",
      "4  88  95\n"
     ]
    }
   ],
   "source": [
    "def span(x):\n",
    "    return [np.min(x), np.max(x)]\n",
    "print(scores_df.apply(span))\n",
    "print(scores_df.apply(span, result_type='expand'))\n",
    "print(scores_df.apply(span, result_type='expand', axis=1))\n"
   ]
  },
  {
   "cell_type": "code",
   "execution_count": 21,
   "metadata": {},
   "outputs": [
    {
     "name": "stdout",
     "output_type": "stream",
     "text": [
      "math       86.6\n",
      "science    89.0\n",
      "english    90.2\n",
      "dtype: float64\n",
      "   math  science  english\n",
      "0    86       89       90\n",
      "1    86       89       90\n",
      "2    86       89       90\n",
      "3    86       89       90\n",
      "4    86       89       90\n",
      "0    88.333333\n",
      "1    89.333333\n",
      "2    84.666667\n",
      "3    89.666667\n",
      "4    91.000000\n",
      "dtype: float64\n"
     ]
    }
   ],
   "source": [
    "print(scores_df.apply(np.mean))\n",
    "print(scores_df.apply(np.mean, result_type='broadcast'))\n",
    "print(scores_df.apply(np.mean, axis=1))\n"
   ]
  },
  {
   "cell_type": "code",
   "execution_count": 29,
   "metadata": {},
   "outputs": [
    {
     "data": {
      "text/html": [
       "<div>\n",
       "<style scoped>\n",
       "    .dataframe tbody tr th:only-of-type {\n",
       "        vertical-align: middle;\n",
       "    }\n",
       "\n",
       "    .dataframe tbody tr th {\n",
       "        vertical-align: top;\n",
       "    }\n",
       "\n",
       "    .dataframe thead th {\n",
       "        text-align: right;\n",
       "    }\n",
       "</style>\n",
       "<table border=\"1\" class=\"dataframe\">\n",
       "  <thead>\n",
       "    <tr style=\"text-align: right;\">\n",
       "      <th></th>\n",
       "      <th>math</th>\n",
       "      <th>science</th>\n",
       "      <th>english</th>\n",
       "    </tr>\n",
       "  </thead>\n",
       "  <tbody>\n",
       "    <tr>\n",
       "      <th>0</th>\n",
       "      <td>85</td>\n",
       "      <td>88</td>\n",
       "      <td>92</td>\n",
       "    </tr>\n",
       "    <tr>\n",
       "      <th>1</th>\n",
       "      <td>90</td>\n",
       "      <td>87</td>\n",
       "      <td>91</td>\n",
       "    </tr>\n",
       "    <tr>\n",
       "      <th>2</th>\n",
       "      <td>78</td>\n",
       "      <td>91</td>\n",
       "      <td>85</td>\n",
       "    </tr>\n",
       "    <tr>\n",
       "      <th>3</th>\n",
       "      <td>92</td>\n",
       "      <td>89</td>\n",
       "      <td>88</td>\n",
       "    </tr>\n",
       "    <tr>\n",
       "      <th>4</th>\n",
       "      <td>88</td>\n",
       "      <td>90</td>\n",
       "      <td>95</td>\n",
       "    </tr>\n",
       "  </tbody>\n",
       "</table>\n",
       "</div>"
      ],
      "text/plain": [
       "   math  science  english\n",
       "0    85       88       92\n",
       "1    90       87       91\n",
       "2    78       91       85\n",
       "3    92       89       88\n",
       "4    88       90       95"
      ]
     },
     "execution_count": 29,
     "metadata": {},
     "output_type": "execute_result"
    }
   ],
   "source": [
    "scores_df"
   ]
  },
  {
   "cell_type": "code",
   "execution_count": 31,
   "metadata": {},
   "outputs": [
    {
     "name": "stdout",
     "output_type": "stream",
     "text": [
      "   math  science  english       mean    rank\n",
      "0    85       88       92  88.333333  medium\n",
      "1    90       87       91  89.333333  medium\n",
      "2    78       91       85  84.666667  medium\n",
      "3    92       89       88  89.666667  medium\n",
      "4    88       90       95  91.000000    high\n"
     ]
    }
   ],
   "source": [
    "def rank(series):\n",
    "    # Calculate the mean of the input series\n",
    "    mean = np.mean(series)\n",
    "    # Return the mean and its rank as a list\n",
    "    if mean>90:\n",
    "        return [mean, 'high']\n",
    "    if mean<=60:\n",
    "        return [mean, 'low']\n",
    "    return [mean, 'medium']\n",
    "\n",
    "# Insert the output of rank() into new columns of scores\n",
    "cols = ['math', 'science', 'english']\n",
    "scores_df[['mean', 'rank']] = scores_df[cols].apply(rank, result_type='expand', axis=1)\n",
    "print(scores_df)"
   ]
  },
  {
   "cell_type": "code",
   "execution_count": 33,
   "metadata": {},
   "outputs": [
    {
     "name": "stdout",
     "output_type": "stream",
     "text": [
      "     math  science  english\n",
      "0  1.7785   1.8028   1.8352\n",
      "1  1.8190   1.7947   1.8271\n",
      "2  1.7218   1.8271   1.7785\n",
      "3  1.8352   1.8109   1.8028\n",
      "4  1.8028   1.8190   1.8595\n"
     ]
    }
   ],
   "source": [
    "def rescale(series, low, high):\n",
    "   # Define the expression to rescale input series\n",
    "   return series*(high-low)/100 + low\n",
    "\n",
    "# Rescale the data in cols to lie between 1 and 10\n",
    "cols = ['math', 'science', 'english'] \n",
    "scores_df[cols] = scores_df[cols].apply(rescale, axis=0, args=[1,10])\n",
    "print(scores_df[cols])"
   ]
  },
  {
   "cell_type": "code",
   "execution_count": 35,
   "metadata": {},
   "outputs": [
    {
     "name": "stdout",
     "output_type": "stream",
     "text": [
      "       math   science   english\n",
      "0  1.160065  1.162252  1.165168\n",
      "1  1.163710  1.161523  1.164439\n",
      "2  1.154962  1.164439  1.160065\n",
      "3  1.165168  1.162981  1.162252\n",
      "4  1.162252  1.163710  1.167355\n"
     ]
    }
   ],
   "source": [
    "# Redefine the function to accept keyword arguments\n",
    "def rescale(series, low=0, high=100):\n",
    "   return series * (high - low)/100 + low\n",
    "\n",
    "# Rescale the data in cols to lie between 1 and 10\n",
    "cols = ['math', 'science', 'english']\n",
    "scores_df[cols] = scores_df[cols].apply(rescale, axis=0, low=1, high=10)\n",
    "print(scores_df[cols])"
   ]
  },
  {
   "cell_type": "markdown",
   "metadata": {},
   "source": [
    "## `.groupby()`\n",
    "\n",
    "The `.groupby()` method is used to group data in a DataFrame based on one or more columns. It is often used in conjunction with aggregation functions like `.sum()`, `.mean()`, `.count()`, etc.\n",
    "\n",
    "**Syntax**:\n",
    "\n",
    "```df.groupby(column_name(s))```\n",
    "\n",
    "```df.groupby(column_name(s)).agg(function, axis=, args= )```"
   ]
  },
  {
   "cell_type": "code",
   "execution_count": 39,
   "metadata": {},
   "outputs": [
    {
     "name": "stdout",
     "output_type": "stream",
     "text": [
      "<class 'pandas.core.frame.DataFrame'>\n",
      "RangeIndex: 768 entries, 0 to 767\n",
      "Data columns (total 9 columns):\n",
      " #   Column             Non-Null Count  Dtype  \n",
      "---  ------             --------------  -----  \n",
      " 0   n pregnant         768 non-null    int64  \n",
      " 1   plasma glucose     763 non-null    float64\n",
      " 2   blood pressure     733 non-null    float64\n",
      " 3   skin thickness     541 non-null    float64\n",
      " 4   serum insulin      394 non-null    float64\n",
      " 5   bmi                757 non-null    float64\n",
      " 6   pedigree function  768 non-null    float64\n",
      " 7   age                768 non-null    int64  \n",
      " 8   test result        768 non-null    object \n",
      "dtypes: float64(6), int64(2), object(1)\n",
      "memory usage: 54.1+ KB\n",
      "None\n",
      "121.6867627785059\n",
      "test result\n",
      "negative    110.643863\n",
      "positive    142.319549\n",
      "Name: plasma glucose, dtype: float64\n"
     ]
    }
   ],
   "source": [
    "# Load the data from the diabetes.csv file\n",
    "diabetes = pd.read_csv('../data/diabetes.csv')\n",
    "print(diabetes.info())\n",
    "\n",
    "# Calculate the mean glucose level in the entire dataset\n",
    "print(diabetes['plasma glucose'].mean())\n",
    "\n",
    "# Group the data according to the diabetes test results\n",
    "diabetes_grouped = diabetes.groupby('test result')\n",
    "\n",
    "# Calculate the mean glucose levels per group\n",
    "print(diabetes_grouped['plasma glucose'].mean())"
   ]
  },
  {
   "cell_type": "markdown",
   "metadata": {},
   "source": [
    "### `.transform()`\n",
    ".transform(function, axis=, args= ) - almost identical to the .apply() method\n",
    "\n",
    "The input and output must have the same size\n",
    "\n",
    "The .transform() method of DataFrameGroupBy object transforms the data in each group and returns a DataFrame.\n",
    "\n",
    "**Syntax**:\n",
    "```\n",
    ".transform(function)\n",
    "function → function that takes a DataFrame as input and returns a DataFrame\n",
    "```\n",
    "\n",
    "#### `.transform()` vs `.apply()`\n",
    "**.apply()**\n",
    "- **Purpose**: `.apply()` is used to apply a function along an axis of the DataFrame (either rows or columns) or to each group in a `groupby` object.\n",
    "- **Output**: The output can be a DataFrame, Series, or scalar, depending on the function applied.\n",
    "- **Use Case**: It's versatile and can be used for a wide range of operations, including aggregations, transformations, and more complex operations.\n",
    "\n",
    "**.transform()**\n",
    "- **Purpose**: `.transform()` is used to perform element-wise operations on a group, returning a DataFrame or Series with the same shape as the original.\n",
    "- **Output**: The output has the same shape as the input, meaning it returns a transformed version of the original data.\n",
    "- **Use Case**: It's typically used when you want to perform operations that return the same number of elements as the input, such as <u>normalizing or scaling data within groups</u>.\n",
    "\n",
    "**Key Differences**\n",
    " - **Shape of Output**: `.apply()` can change the shape of the data, while `.transform()` maintains the original shape.\n",
    "- **Use Case**: Use `.apply()` for aggregations or when the output shape can differ from the input. Use `.transform()` for element-wise transformations that need to maintain the original shape.\n",
    "- **Functionality**: `.apply()` is more flexible and can be used for a wider range of operations, while `.transform()` is specifically for element-wise transformations.\n",
    "\n",
    "Choosing between `.apply()` and `.transform()` depends on the specific operation you need to perform and the desired shape of the output.\n",
    "\n"
   ]
  },
  {
   "cell_type": "code",
   "execution_count": null,
   "metadata": {},
   "outputs": [],
   "source": [
    "# Define a lambda function that imputes NaN values in series\n",
    "impute = lambda series: series.fillna(np.mean(series))\n",
    "\n",
    "# Impute NaNs in the bmi column of imp_globmean\n",
    "imp_globmean['bmi'] = imp_globmean['bmi'].transform(impute)\n",
    "print(\"Global mean = \" + str(fheroes['bmi'].mean()) + \"\\n\")\n",
    "\n",
    "groups = imp_grpmean.groupby(['Publisher', 'Alignment'])\n",
    "\n",
    "# Impute NaNs in the bmi column of imp_grpmean\n",
    "imp_grpmean['bmi'] = groups['bmi'].transform(impute)\n",
    "print(groups['bmi'].mean())"
   ]
  },
  {
   "cell_type": "markdown",
   "metadata": {},
   "source": [
    "### `.groupby()` followed by `.filter()`\n",
    "The .filter() method of DataFrameGroupBy object filters the groups based on the condition specified in the function and returns a DataFrame.\n",
    "\n",
    "**Syntax**:\n",
    "```\n",
    ".filter(function)\n",
    "function → True - group stays\n",
    "function → False - group leaves\n",
    "function(pd.DataFrame) - the function acts on the whole DataFrame in each group.\n",
    "```"
   ]
  },
  {
   "cell_type": "code",
   "execution_count": 45,
   "metadata": {},
   "outputs": [
    {
     "name": "stdout",
     "output_type": "stream",
     "text": [
      "                              mean         std\n",
      "Alignment Publisher                           \n",
      "bad       DC Comics      71.460251  250.642060\n",
      "          Marvel Comics  62.512261  258.935100\n",
      "good      DC Comics      25.028215    6.879312\n",
      "          Marvel Comics  28.968076   16.550686\n"
     ]
    }
   ],
   "source": [
    "heroes = pd.read_csv('../data/heroes_information.csv')\n",
    "heroes['bmi'] = heroes['Weight']/((heroes['Height']/100)**2)\n",
    "# Group the data by two factors specified in the context\n",
    "groups = heroes[(heroes['Weight']>0) & (heroes['Height']>0)].groupby(['Alignment','Publisher'])\n",
    "\n",
    "# Filter groups having more than 10 valid bmi observations\n",
    "fheroes = groups.filter(lambda x: x['bmi'].count()>10)\n",
    "\n",
    "# Group the filtered data again by the same factors\n",
    "fgroups = fheroes.groupby(['Alignment','Publisher'])\n",
    "\n",
    "# Calculate the mean and standard deviation of the BMI index\n",
    "result = fgroups['bmi'].agg([\"mean\", \"std\"])\n",
    "print(result)"
   ]
  },
  {
   "cell_type": "code",
   "execution_count": 49,
   "metadata": {},
   "outputs": [
    {
     "data": {
      "text/plain": [
       "Unnamed: 0    0\n",
       "name          0\n",
       "Gender        0\n",
       "Eye color     0\n",
       "Race          0\n",
       "Hair color    0\n",
       "Height        0\n",
       "Publisher     0\n",
       "Skin color    0\n",
       "Alignment     0\n",
       "Weight        0\n",
       "bmi           0\n",
       "dtype: int64"
      ]
     },
     "execution_count": 49,
     "metadata": {},
     "output_type": "execute_result"
    }
   ],
   "source": [
    "fheroes.isnull().sum()"
   ]
  },
  {
   "cell_type": "markdown",
   "metadata": {},
   "source": [
    "# Visualization"
   ]
  },
  {
   "cell_type": "code",
   "execution_count": 52,
   "metadata": {},
   "outputs": [],
   "source": [
    "import matplotlib.pyplot as plt"
   ]
  },
  {
   "cell_type": "code",
   "execution_count": 53,
   "metadata": {},
   "outputs": [],
   "source": [
    "retinol=pd.read_csv('../data/retinol.csv')"
   ]
  },
  {
   "cell_type": "code",
   "execution_count": 55,
   "metadata": {},
   "outputs": [
    {
     "data": {
      "image/png": "[encoded data removed]",
      "text/plain": [
       "<Figure size 640x480 with 1 Axes>"
      ]
     },
     "metadata": {},
     "output_type": "display_data"
    }
   ],
   "source": [
    "plt.hist(retinol['plasma retinol'], bins=20)\n",
    "plt.title('Histogram of Plasma Retinol')\n",
    "plt.xlabel('plasma retinol')\n",
    "plt.ylabel('counts')\n",
    "plt.show()"
   ]
  },
  {
   "cell_type": "code",
   "execution_count": 66,
   "metadata": {},
   "outputs": [
    {
     "data": {
      "text/plain": [
       "<Axes: title={'center': 'Histogram of Plasma Retinol'}, xlabel='plasma retinol', ylabel='counts'>"
      ]
     },
     "execution_count": 66,
     "metadata": {},
     "output_type": "execute_result"
    },
    {
     "data": {
      "image/png": "[encoded data removed]",
      "text/plain": [
       "<Figure size 640x480 with 1 Axes>"
      ]
     },
     "metadata": {},
     "output_type": "display_data"
    }
   ],
   "source": [
    "retinol['plasma retinol'].plot(\n",
    "    kind='hist', \n",
    "    bins=20, \n",
    "    xlabel='plasma retinol', \n",
    "    ylabel='counts', \n",
    "    title='Histogram of Plasma Retinol'\n",
    ")"
   ]
  },
  {
   "cell_type": "code",
   "execution_count": 71,
   "metadata": {},
   "outputs": [
    {
     "data": {
      "image/png": "[encoded data removed]",
      "text/plain": [
       "<Figure size 640x480 with 1 Axes>"
      ]
     },
     "metadata": {},
     "output_type": "display_data"
    }
   ],
   "source": [
    "import seaborn as sns\n",
    "heroes = pd.read_csv('../data/heroes_information.csv')\n",
    "heroes['bmi'] = heroes['Weight']/((heroes['Height']/100)**2)\n",
    "\n",
    "# Select rows from 'heroes' for which the BMI index < 1000\n",
    "heroes_filtered = heroes[(heroes['bmi'] < 1000) & (heroes['Height']>0) & (heroes['Weight']>0)]\n",
    "\n",
    "# Create a new boxplot of BMI indices\n",
    "sns.boxplot(x='Alignment',y='bmi',data=heroes_filtered)\n",
    "plt.title('Box Plot of BMI by Alignment')\n",
    "plt.xlabel('Alignment')\n",
    "plt.ylabel('BMI')\n",
    "plt.show()"
   ]
  }
 ],
 "metadata": {
  "kernelspec": {
   "display_name": "advanced-python-coding-QfLDxTC9-py3.11",
   "language": "python",
   "name": "python3"
  },
  "language_info": {
   "codemirror_mode": {
    "name": "ipython",
    "version": 3
   },
   "file_extension": ".py",
   "mimetype": "text/x-python",
   "name": "python",
   "nbconvert_exporter": "python",
   "pygments_lexer": "ipython3",
   "version": "3.11.3"
  }
 },
 "nbformat": 4,
 "nbformat_minor": 2
}
