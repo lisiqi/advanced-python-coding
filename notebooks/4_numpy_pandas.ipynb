{
 "cells": [
  {
   "cell_type": "markdown",
   "metadata": {},
   "source": [
    "# Numpy\n",
    "\n",
    "## Numpy Array\n",
    "\n",
    "Using a **NumPy array** instead of a Python list is advantageous in many cases, especially when working with large datasets, numerical computations, or when performance and memory efficiency are important.\n",
    "\n",
    "Here are key reasons and scenarios when you should use **NumPy arrays** over Python lists:\n",
    "\n",
    "### 1. **Performance and Speed**\n",
    "- **Why**: NumPy arrays are much faster than Python lists for numerical operations due to their implementation in C and the use of contiguous memory blocks. Lists are heterogeneous and more flexible but come with significant overhead.\n",
    "- **When to Use**: When performing operations that involve large datasets or repeated numerical computations (e.g., element-wise addition, multiplication, etc.), NumPy arrays are significantly faster.\n",
    "  \n",
    "    **Example**: Adding two arrays\n",
    "    ```python\n",
    "    import numpy as np\n",
    "    arr1 = np.array([1, 2, 3])\n",
    "    arr2 = np.array([4, 5, 6])\n",
    "    result = arr1 + arr2  # Element-wise addition\n",
    "    ```\n",
    "    The same operation using lists would involve looping through the elements, making it slower:\n",
    "    ```python\n",
    "    list1 = [1, 2, 3]\n",
    "    list2 = [4, 5, 6]\n",
    "    result = [x + y for x, y in zip(list1, list2)]\n",
    "    ```\n",
    "\n",
    "### 2. **Memory Efficiency**\n",
    "- **Why**: NumPy arrays use much less memory than Python lists because they store elements of the <u>same data type</u> in contiguous memory locations. Python lists are <u>dynamic and store references to objects</u>, which leads to overhead in memory usage.\n",
    "- **When to Use**: When you need to store large datasets in memory, especially numerical data (e.g., matrices, time series data), NumPy arrays are more efficient in terms of memory.\n",
    "\n",
    "    **Example**: A list with integers has to store not only the integers but also the references to them, while NumPy arrays store the integers directly.\n",
    "    ```python\n",
    "    list_data = [1, 2, 3, 4, 5]\n",
    "    numpy_data = np.array([1, 2, 3, 4, 5])\n",
    "    ```\n",
    "\n",
    "### 3. **Vectorized Operations**\n",
    "- **Why**: NumPy arrays support **vectorized operations**, which allow for applying mathematical operations directly on arrays without the need for explicit loops. This results in concise and faster code execution.\n",
    "- **When to Use**: When you need to perform operations on entire arrays or matrices at once (e.g., matrix multiplication, element-wise addition, etc.).\n",
    "\n",
    "    **Example**: Applying a mathematical function element-wise to all elements in an array.\n",
    "    ```python\n",
    "    arr = np.array([1, 2, 3, 4, 5])\n",
    "    result = arr * 2  # Element-wise multiplication\n",
    "    ```\n",
    "\n",
    "    In a Python list, you’d have to use a loop:\n",
    "    ```python\n",
    "    list_data = [1, 2, 3, 4, 5]\n",
    "    result = [x * 2 for x in list_data]\n",
    "    ```\n",
    "\n",
    "### 4. **Multidimensional Arrays**\n",
    "- **Why**: NumPy supports multidimensional arrays (e.g., 2D matrices, 3D tensors), making it much more powerful for working with complex datasets like matrices, image data, and time series data. Python lists can be used to simulate multi-dimensional arrays, but they are less efficient and more cumbersome.\n",
    "- **When to Use**: When working with higher-dimensional data, such as matrices or tensors (e.g., in machine learning, scientific computing, or image processing).\n",
    "  \n",
    "    **Example**: Creating a 2D matrix (a list of lists in Python) and multiplying matrices:\n",
    "    ```python\n",
    "    matrix1 = np.array([[1, 2], [3, 4]])\n",
    "    matrix2 = np.array([[5, 6], [7, 8]])\n",
    "    result = np.dot(matrix1, matrix2)  # Matrix multiplication\n",
    "    ```\n",
    "\n",
    "    In Python lists, this would require manually implementing the multiplication.\n",
    "\n",
    "### 5. **Broadcasting**\n",
    "- **Why**: NumPy arrays support **broadcasting**, allowing operations between arrays of different shapes. This feature makes operations like adding a scalar to an array or adding arrays of different sizes much easier without the need for explicit looping.\n",
    "- **When to Use**: When you need to perform operations between arrays of different shapes without writing complex loops.\n",
    "\n",
    "    **Example**: Adding a scalar to all elements in an array:\n",
    "    ```python\n",
    "    arr = np.array([1, 2, 3])\n",
    "    result = arr + 10  # Adds 10 to each element of the array\n",
    "    ```\n",
    "\n",
    "    Broadcasting also works between arrays of different shapes:\n",
    "    ```python\n",
    "    arr = np.array([[1, 2, 3], [4, 5, 6]])\n",
    "    vector = np.array([1, 2, 3])\n",
    "    result = arr + vector  # Broadcasts the vector across each row of the matrix\n",
    "    ```\n",
    "\n",
    "### 6. **Advanced Indexing and Slicing**\n",
    "- **Why**: NumPy arrays provide powerful **indexing and slicing capabilities**, including boolean indexing, fancy indexing, and multidimensional slicing. Python lists, in contrast, offer limited indexing and slicing options.\n",
    "- **When to Use**: When you need to manipulate or extract subsets of data using complex indexing and slicing operations.\n",
    "\n",
    "    **Example**: Boolean indexing:\n",
    "    ```python\n",
    "    arr = np.array([1, 2, 3, 4, 5])\n",
    "    result = arr[arr > 3]  # Extracts elements greater than 3\n",
    "    ```\n",
    "    Multidimensional slicing:\n",
    "    ```python\n",
    "    arr = np.array([[1, 2, 3], [4, 5, 6]])\n",
    "    result = arr[:, 1]  # Extracts the second column\n",
    "    ```\n",
    "\n",
    "### 7. **Mathematical and Statistical Functions**\n",
    "- **Why**: NumPy provides a vast library of built-in **mathematical, statistical, and linear algebra functions**. These functions are highly optimized and designed for efficient numerical computations on large arrays.\n",
    "- **When to Use**: When you need to perform complex numerical operations (e.g., mean, median, standard deviation, matrix multiplication, etc.) on large datasets.\n",
    "\n",
    "    **Example**: Calculating mean, sum, and standard deviation of an array:\n",
    "    ```python\n",
    "    arr = np.array([1, 2, 3, 4, 5])\n",
    "    mean = np.mean(arr)\n",
    "    total_sum = np.sum(arr)\n",
    "    std_dev = np.std(arr)\n",
    "    ```\n",
    "\n",
    "### 8. **Interoperability with Other Libraries**\n",
    "- **Why**: NumPy arrays are used as the standard array type in many **scientific libraries** such as Pandas, SciPy, and TensorFlow. Python lists, while more general-purpose, are not optimized for such tasks.\n",
    "- **When to Use**: When you're working with machine learning, data science, or numerical computing libraries, it's best to use NumPy arrays for seamless integration.\n",
    "\n",
    "---\n",
    "\n",
    "### Summary: When to Use NumPy Arrays Over Lists\n",
    "\n",
    "| **Reason**                             | **Use NumPy Arrays When**                                                     |\n",
    "|----------------------------------------|-------------------------------------------------------------------------------|\n",
    "| **Performance and Speed**              | You need faster computation on large datasets.                                |\n",
    "| **Memory Efficiency**                  | You need to store large amounts of data and optimize memory usage.            |\n",
    "| **Vectorized Operations**              | You want to perform element-wise operations efficiently without loops.        |\n",
    "| **Multidimensional Arrays**            | You work with matrices or higher-dimensional data (e.g., images, time series).|\n",
    "| **Broadcasting**                       | You need to perform operations on arrays of different shapes.                 |\n",
    "| **Advanced Indexing and Slicing**      | You need powerful, complex slicing and indexing capabilities.                 |\n",
    "| **Mathematical and Statistical Functions** | You need to perform efficient numerical computations (e.g., mean, standard deviation). |\n",
    "| **Interoperability with Libraries**    | You work with libraries like Pandas, SciPy, TensorFlow, etc. that use NumPy arrays. |\n",
    "\n",
    "In summary, NumPy arrays are more suitable when working with **large numerical datasets** and **performance-critical applications**, while Python lists are more general-purpose and flexible but less efficient for numerical operations.\n"
   ]
  },
  {
   "cell_type": "code",
   "execution_count": 3,
   "metadata": {},
   "outputs": [
    {
     "name": "stdout",
     "output_type": "stream",
     "text": [
      "[[1 2]\n",
      " [3 4]]\n",
      "[[5 6]\n",
      " [7 8]]\n",
      "[[19 22]\n",
      " [43 50]]\n"
     ]
    }
   ],
   "source": [
    "import numpy as np\n",
    "matrix1 = np.array([[1, 2], [3, 4]])\n",
    "matrix2 = np.array([[5, 6], [7, 8]])\n",
    "result = np.dot(matrix1, matrix2)\n",
    "print(matrix1)\n",
    "print(matrix2)\n",
    "print(result)"
   ]
  },
  {
   "cell_type": "code",
   "execution_count": 4,
   "metadata": {},
   "outputs": [
    {
     "name": "stdout",
     "output_type": "stream",
     "text": [
      "[[2 4 6]\n",
      " [5 7 9]]\n"
     ]
    }
   ],
   "source": [
    "arr = np.array([[1, 2, 3], [4, 5, 6]])\n",
    "vector = np.array([1, 2, 3])\n",
    "result = arr + vector  # Broadcasts the vector across each row of the matrix\n",
    "print(result)"
   ]
  },
  {
   "cell_type": "markdown",
   "metadata": {},
   "source": [
    "# Pandas DataFrame's apply() method\n",
    "**Syntax**: \n",
    "\n",
    "```df.apply(function)```\n",
    "\n",
    "```df.apply(function, axis= )```\n",
    "- axis=0 -> function is applied over columns\n",
    "- axis=1 -> function is applied over \n",
    "\n",
    "```df.apply(function, result_type= )``` \n",
    "- result_type='expand' -> function is applied over columns and returns a DataFrame\n",
    "- result_type='reduce' -> function is applied over rows and returns a Series\n",
    "- result_type='broadcast' -> function is applied over rows and returns a scalar\n",
    "- result_type='series' -> function is applied over columns and returns a Series\n",
    "- result_type='dataframe' -> function is applied over rows and returns a DataFrame\n",
    "\n",
    "```df.apply(function, args= ) ```\n",
    "- function(pd.Series, arg1, arg2, ..., kwarg1=val1, kwarg2=val2, ...)\n",
    "- args -> [arg1, arg2, ...]"
   ]
  },
  {
   "cell_type": "code",
   "execution_count": 6,
   "metadata": {},
   "outputs": [
    {
     "data": {
      "text/html": [
       "<div>\n",
       "<style scoped>\n",
       "    .dataframe tbody tr th:only-of-type {\n",
       "        vertical-align: middle;\n",
       "    }\n",
       "\n",
       "    .dataframe tbody tr th {\n",
       "        vertical-align: top;\n",
       "    }\n",
       "\n",
       "    .dataframe thead th {\n",
       "        text-align: right;\n",
       "    }\n",
       "</style>\n",
       "<table border=\"1\" class=\"dataframe\">\n",
       "  <thead>\n",
       "    <tr style=\"text-align: right;\">\n",
       "      <th></th>\n",
       "      <th>math</th>\n",
       "      <th>science</th>\n",
       "      <th>english</th>\n",
       "    </tr>\n",
       "  </thead>\n",
       "  <tbody>\n",
       "    <tr>\n",
       "      <th>0</th>\n",
       "      <td>85</td>\n",
       "      <td>88</td>\n",
       "      <td>92</td>\n",
       "    </tr>\n",
       "    <tr>\n",
       "      <th>1</th>\n",
       "      <td>90</td>\n",
       "      <td>87</td>\n",
       "      <td>91</td>\n",
       "    </tr>\n",
       "    <tr>\n",
       "      <th>2</th>\n",
       "      <td>78</td>\n",
       "      <td>91</td>\n",
       "      <td>85</td>\n",
       "    </tr>\n",
       "    <tr>\n",
       "      <th>3</th>\n",
       "      <td>92</td>\n",
       "      <td>89</td>\n",
       "      <td>88</td>\n",
       "    </tr>\n",
       "    <tr>\n",
       "      <th>4</th>\n",
       "      <td>88</td>\n",
       "      <td>90</td>\n",
       "      <td>95</td>\n",
       "    </tr>\n",
       "  </tbody>\n",
       "</table>\n",
       "</div>"
      ],
      "text/plain": [
       "   math  science  english\n",
       "0    85       88       92\n",
       "1    90       87       91\n",
       "2    78       91       85\n",
       "3    92       89       88\n",
       "4    88       90       95"
      ]
     },
     "execution_count": 6,
     "metadata": {},
     "output_type": "execute_result"
    }
   ],
   "source": [
    "import pandas as pd\n",
    "\n",
    "scores_df = pd.DataFrame({\n",
    "    'math': [85, 90, 78, 92, 88],\n",
    "    'science': [88, 87, 91, 89, 90],\n",
    "    'english': [92, 91, 85, 88, 95]\n",
    "})\n",
    "scores_df\n"
   ]
  },
  {
   "cell_type": "code",
   "execution_count": 8,
   "metadata": {},
   "outputs": [
    {
     "data": {
      "text/html": [
       "<div>\n",
       "<style scoped>\n",
       "    .dataframe tbody tr th:only-of-type {\n",
       "        vertical-align: middle;\n",
       "    }\n",
       "\n",
       "    .dataframe tbody tr th {\n",
       "        vertical-align: top;\n",
       "    }\n",
       "\n",
       "    .dataframe thead th {\n",
       "        text-align: right;\n",
       "    }\n",
       "</style>\n",
       "<table border=\"1\" class=\"dataframe\">\n",
       "  <thead>\n",
       "    <tr style=\"text-align: right;\">\n",
       "      <th></th>\n",
       "      <th>math</th>\n",
       "      <th>science</th>\n",
       "      <th>english</th>\n",
       "    </tr>\n",
       "  </thead>\n",
       "  <tbody>\n",
       "    <tr>\n",
       "      <th>0</th>\n",
       "      <td>9.219544</td>\n",
       "      <td>9.380832</td>\n",
       "      <td>9.591663</td>\n",
       "    </tr>\n",
       "    <tr>\n",
       "      <th>1</th>\n",
       "      <td>9.486833</td>\n",
       "      <td>9.327379</td>\n",
       "      <td>9.539392</td>\n",
       "    </tr>\n",
       "    <tr>\n",
       "      <th>2</th>\n",
       "      <td>8.831761</td>\n",
       "      <td>9.539392</td>\n",
       "      <td>9.219544</td>\n",
       "    </tr>\n",
       "    <tr>\n",
       "      <th>3</th>\n",
       "      <td>9.591663</td>\n",
       "      <td>9.433981</td>\n",
       "      <td>9.380832</td>\n",
       "    </tr>\n",
       "    <tr>\n",
       "      <th>4</th>\n",
       "      <td>9.380832</td>\n",
       "      <td>9.486833</td>\n",
       "      <td>9.746794</td>\n",
       "    </tr>\n",
       "  </tbody>\n",
       "</table>\n",
       "</div>"
      ],
      "text/plain": [
       "       math   science   english\n",
       "0  9.219544  9.380832  9.591663\n",
       "1  9.486833  9.327379  9.539392\n",
       "2  8.831761  9.539392  9.219544\n",
       "3  9.591663  9.433981  9.380832\n",
       "4  9.380832  9.486833  9.746794"
      ]
     },
     "execution_count": 8,
     "metadata": {},
     "output_type": "execute_result"
    }
   ],
   "source": [
    "import numpy as np\n",
    "\n",
    "scores_df.apply(np.sqrt)"
   ]
  },
  {
   "cell_type": "code",
   "execution_count": 9,
   "metadata": {},
   "outputs": [
    {
     "data": {
      "text/plain": [
       "math       86.6\n",
       "science    89.0\n",
       "english    90.2\n",
       "dtype: float64"
      ]
     },
     "execution_count": 9,
     "metadata": {},
     "output_type": "execute_result"
    }
   ],
   "source": [
    "scores_df.apply(np.mean)"
   ]
  },
  {
   "cell_type": "code",
   "execution_count": 11,
   "metadata": {},
   "outputs": [
    {
     "data": {
      "text/html": [
       "<div>\n",
       "<style scoped>\n",
       "    .dataframe tbody tr th:only-of-type {\n",
       "        vertical-align: middle;\n",
       "    }\n",
       "\n",
       "    .dataframe tbody tr th {\n",
       "        vertical-align: top;\n",
       "    }\n",
       "\n",
       "    .dataframe thead th {\n",
       "        text-align: right;\n",
       "    }\n",
       "</style>\n",
       "<table border=\"1\" class=\"dataframe\">\n",
       "  <thead>\n",
       "    <tr style=\"text-align: right;\">\n",
       "      <th></th>\n",
       "      <th>math</th>\n",
       "      <th>science</th>\n",
       "      <th>english</th>\n",
       "    </tr>\n",
       "  </thead>\n",
       "  <tbody>\n",
       "    <tr>\n",
       "      <th>0</th>\n",
       "      <td>42.5</td>\n",
       "      <td>44.0</td>\n",
       "      <td>46.0</td>\n",
       "    </tr>\n",
       "    <tr>\n",
       "      <th>1</th>\n",
       "      <td>45.0</td>\n",
       "      <td>43.5</td>\n",
       "      <td>45.5</td>\n",
       "    </tr>\n",
       "    <tr>\n",
       "      <th>2</th>\n",
       "      <td>39.0</td>\n",
       "      <td>45.5</td>\n",
       "      <td>42.5</td>\n",
       "    </tr>\n",
       "    <tr>\n",
       "      <th>3</th>\n",
       "      <td>46.0</td>\n",
       "      <td>44.5</td>\n",
       "      <td>44.0</td>\n",
       "    </tr>\n",
       "    <tr>\n",
       "      <th>4</th>\n",
       "      <td>44.0</td>\n",
       "      <td>45.0</td>\n",
       "      <td>47.5</td>\n",
       "    </tr>\n",
       "  </tbody>\n",
       "</table>\n",
       "</div>"
      ],
      "text/plain": [
       "   math  science  english\n",
       "0  42.5     44.0     46.0\n",
       "1  45.0     43.5     45.5\n",
       "2  39.0     45.5     42.5\n",
       "3  46.0     44.5     44.0\n",
       "4  44.0     45.0     47.5"
      ]
     },
     "execution_count": 11,
     "metadata": {},
     "output_type": "execute_result"
    }
   ],
   "source": [
    "def divide_by_two(x):\n",
    "    return x / 2\n",
    "\n",
    "scores_df.apply(divide_by_two)"
   ]
  },
  {
   "cell_type": "code",
   "execution_count": 10,
   "metadata": {},
   "outputs": [
    {
     "data": {
      "text/html": [
       "<div>\n",
       "<style scoped>\n",
       "    .dataframe tbody tr th:only-of-type {\n",
       "        vertical-align: middle;\n",
       "    }\n",
       "\n",
       "    .dataframe tbody tr th {\n",
       "        vertical-align: top;\n",
       "    }\n",
       "\n",
       "    .dataframe thead th {\n",
       "        text-align: right;\n",
       "    }\n",
       "</style>\n",
       "<table border=\"1\" class=\"dataframe\">\n",
       "  <thead>\n",
       "    <tr style=\"text-align: right;\">\n",
       "      <th></th>\n",
       "      <th>math</th>\n",
       "      <th>science</th>\n",
       "      <th>english</th>\n",
       "    </tr>\n",
       "  </thead>\n",
       "  <tbody>\n",
       "    <tr>\n",
       "      <th>0</th>\n",
       "      <td>42.5</td>\n",
       "      <td>44.0</td>\n",
       "      <td>46.0</td>\n",
       "    </tr>\n",
       "    <tr>\n",
       "      <th>1</th>\n",
       "      <td>45.0</td>\n",
       "      <td>43.5</td>\n",
       "      <td>45.5</td>\n",
       "    </tr>\n",
       "    <tr>\n",
       "      <th>2</th>\n",
       "      <td>39.0</td>\n",
       "      <td>45.5</td>\n",
       "      <td>42.5</td>\n",
       "    </tr>\n",
       "    <tr>\n",
       "      <th>3</th>\n",
       "      <td>46.0</td>\n",
       "      <td>44.5</td>\n",
       "      <td>44.0</td>\n",
       "    </tr>\n",
       "    <tr>\n",
       "      <th>4</th>\n",
       "      <td>44.0</td>\n",
       "      <td>45.0</td>\n",
       "      <td>47.5</td>\n",
       "    </tr>\n",
       "  </tbody>\n",
       "</table>\n",
       "</div>"
      ],
      "text/plain": [
       "   math  science  english\n",
       "0  42.5     44.0     46.0\n",
       "1  45.0     43.5     45.5\n",
       "2  39.0     45.5     42.5\n",
       "3  46.0     44.5     44.0\n",
       "4  44.0     45.0     47.5"
      ]
     },
     "execution_count": 10,
     "metadata": {},
     "output_type": "execute_result"
    }
   ],
   "source": [
    "scores_df.apply(lambda x: x / 2)"
   ]
  },
  {
   "cell_type": "code",
   "execution_count": 13,
   "metadata": {},
   "outputs": [
    {
     "data": {
      "text/plain": [
       "math       86.6\n",
       "science    89.0\n",
       "english    90.2\n",
       "dtype: float64"
      ]
     },
     "execution_count": 13,
     "metadata": {},
     "output_type": "execute_result"
    }
   ],
   "source": [
    "scores_df.apply(np.mean, axis=0) # apply function over columns"
   ]
  },
  {
   "cell_type": "code",
   "execution_count": 14,
   "metadata": {},
   "outputs": [
    {
     "data": {
      "text/plain": [
       "0    88.333333\n",
       "1    89.333333\n",
       "2    84.666667\n",
       "3    89.666667\n",
       "4    91.000000\n",
       "dtype: float64"
      ]
     },
     "execution_count": 14,
     "metadata": {},
     "output_type": "execute_result"
    }
   ],
   "source": [
    "scores_df.apply(np.mean, axis=1) # apply function over rows"
   ]
  },
  {
   "cell_type": "code",
   "execution_count": 20,
   "metadata": {},
   "outputs": [
    {
     "name": "stdout",
     "output_type": "stream",
     "text": [
      "   math  science  english\n",
      "0    78       87       85\n",
      "1    92       91       95\n",
      "   math  science  english\n",
      "0    78       87       85\n",
      "1    92       91       95\n",
      "    0   1\n",
      "0  85  92\n",
      "1  87  91\n",
      "2  78  91\n",
      "3  88  92\n",
      "4  88  95\n"
     ]
    }
   ],
   "source": [
    "def span(x):\n",
    "    return [np.min(x), np.max(x)]\n",
    "print(scores_df.apply(span))\n",
    "print(scores_df.apply(span, result_type='expand'))\n",
    "print(scores_df.apply(span, result_type='expand', axis=1))\n"
   ]
  },
  {
   "cell_type": "code",
   "execution_count": 21,
   "metadata": {},
   "outputs": [
    {
     "name": "stdout",
     "output_type": "stream",
     "text": [
      "math       86.6\n",
      "science    89.0\n",
      "english    90.2\n",
      "dtype: float64\n",
      "   math  science  english\n",
      "0    86       89       90\n",
      "1    86       89       90\n",
      "2    86       89       90\n",
      "3    86       89       90\n",
      "4    86       89       90\n",
      "0    88.333333\n",
      "1    89.333333\n",
      "2    84.666667\n",
      "3    89.666667\n",
      "4    91.000000\n",
      "dtype: float64\n"
     ]
    }
   ],
   "source": [
    "print(scores_df.apply(np.mean))\n",
    "print(scores_df.apply(np.mean, result_type='broadcast'))\n",
    "print(scores_df.apply(np.mean, axis=1))\n"
   ]
  },
  {
   "cell_type": "code",
   "execution_count": null,
   "metadata": {},
   "outputs": [],
   "source": []
  },
  {
   "cell_type": "code",
   "execution_count": null,
   "metadata": {},
   "outputs": [],
   "source": []
  }
 ],
 "metadata": {
  "kernelspec": {
   "display_name": "advanced-python-coding-QfLDxTC9-py3.11",
   "language": "python",
   "name": "python3"
  },
  "language_info": {
   "codemirror_mode": {
    "name": "ipython",
    "version": 3
   },
   "file_extension": ".py",
   "mimetype": "text/x-python",
   "name": "python",
   "nbconvert_exporter": "python",
   "pygments_lexer": "ipython3",
   "version": "3.11.3"
  }
 },
 "nbformat": 4,
 "nbformat_minor": 2
}
