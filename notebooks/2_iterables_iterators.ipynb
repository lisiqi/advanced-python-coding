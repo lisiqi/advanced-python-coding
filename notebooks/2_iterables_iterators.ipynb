{
 "cells": [
  {
   "cell_type": "markdown",
   "metadata": {},
   "source": [
    "# Iterable Objects & Iterators\n",
    "\n",
    "**Iterable Objects** (**Iterables**): Any object that can be looped over using a for loop. Object that can return an iterator. Examples include lists, tuples, strings, and dictionaries. An iterable has an `__iter__()` method that returns an iterator.\n",
    "\n",
    "**Iterators**: An object that represents a stream of data. It returns the next value with the `__next__()` method and raises a StopIteration exception when there are no more items. An iterator is created from an iterable using the `iter()` function."
   ]
  },
  {
   "cell_type": "code",
   "execution_count": 9,
   "metadata": {},
   "outputs": [
    {
     "name": "stdout",
     "output_type": "stream",
     "text": [
      "1\n",
      "2\n",
      "3\n"
     ]
    }
   ],
   "source": [
    "# Iterable\n",
    "my_list = [1, 2, 3]\n",
    "\n",
    "# Get an iterator from the iterable\n",
    "my_iterator = iter(my_list)\n",
    "\n",
    "# Iterate using the iterator\n",
    "while True:\n",
    "    try:\n",
    "        item = next(my_iterator)\n",
    "        print(item)\n",
    "    except StopIteration:\n",
    "        break"
   ]
  },
  {
   "cell_type": "markdown",
   "metadata": {},
   "source": [
    "## List Comprehensions\n",
    "\n",
    "List comprehension is a concise way to create lists in Python. It allows you to generate a new list by applying an expression to each item in an existing iterable (like a list, tuple, or string) and optionally filtering items with a condition.\n",
    "\n",
    "**Syntax**\n",
    "\n",
    "The basic syntax for a list comprehension is:\n",
    "\n",
    "```\n",
    "new_list = [expression for item in iterable if condition]\n",
    "```\n",
    "\n",
    "- **expression**: The value or transformation to apply to each item.\n",
    "\n",
    "- **item**: The variable representing each element in the iterable.\n",
    "- **iterable**: The collection of items to iterate over.\n",
    "- **condition** (optional): A filter that determines whether the item should be included in the new list.\n",
    "\n"
   ]
  },
  {
   "cell_type": "code",
   "execution_count": null,
   "metadata": {},
   "outputs": [],
   "source": [
    "# Create a list of squares\n",
    "squares = [x**2 for x in range(10)]\n",
    "print(squares)  # Output: [0, 1, 4, 9, 16, 25, 36, 49, 64, 81]\n",
    "\n",
    "# Create a list of even numbers\n",
    "evens = [x for x in range(10) if x % 2 == 0]\n",
    "print(evens)  # Output: [0, 2, 4, 6, 8]\n",
    "\n",
    "# Create a list of squares of even numbers\n",
    "even_squares = [x**2 for x in range(10) if x % 2 == 0]\n",
    "print(even_squares)  # Output: [0, 4, 16, 36, 64]\n",
    "\n",
    "# Create a list of tuples (x, y) for x and y in range(3)\n",
    "pairs = [(x, y) for x in range(3) for y in range(3)]\n",
    "print(pairs)  # Output: [(0, 0), (0, 1), (0, 2), (1, 0), (1, 1), (1, 2), (2, 0), (2, 1), (2, 2)]\n",
    "\n",
    "# Create a list of strings where each string is 'x-y' for x and y in range(3)\n",
    "strings = [f\"{x}-{y}\" for x in range(3) for y in range(3)]\n",
    "print(strings)  # Output: ['0-0', '0-1', '0-2', '1-0', '1-1', '1-2', '2-0', '2-1', '2-2']\n",
    "\n",
    "# Create a list of tuples (x, y) for x in range(3) and y in range(3) if x != y\n",
    "pairs_no_diagonal = [(x, y) for x in range(3) for y in range(3) if x != y]\n",
    "print(pairs_no_diagonal)  # Output: [(0, 1), (0, 2), (1, 0), (1, 2), (2, 0), (2, 1)]\n",
    "\n",
    "# Create a list of lengths of each word in a list\n",
    "words = [\"hello\", \"world\", \"python\"]\n",
    "lengths = [len(word) for word in words]\n",
    "print(lengths)  # Output: [5, 5, 6]\n"
   ]
  },
  {
   "cell_type": "markdown",
   "metadata": {},
   "source": [
    "## Zip object\n",
    "\n",
    "The `zip` function in Python is used to combine multiple iterables (like lists, tuples, etc.) into a single iterator of tuples. Each tuple contains elements from the corresponding positions of the input iterables. \n",
    "\n",
    "The `zip` function is very useful for parallel iteration and combining data from multiple sources.\n",
    "\n",
    "Here's a brief explanation and some examples:\n",
    "\n",
    "**Explanation**\n",
    "- **Syntax**: `zip(*iterables)`\n",
    "\n",
    "- **Parameters**: One or more iterables (e.g., lists, tuples).\n",
    "- **Returns**: An iterator of tuples, where the i-th tuple contains the i-th element from each of the input iterables.\n",
    "\n",
    "**Examples**\n"
   ]
  },
  {
   "cell_type": "code",
   "execution_count": null,
   "metadata": {},
   "outputs": [],
   "source": [
    "# Example 1: Zipping two lists\n",
    "list1 = [1, 2, 3]\n",
    "list2 = ['a', 'b', 'c']\n",
    "zipped = zip(list1, list2)\n",
    "print(list(zipped))  # Output: [(1, 'a'), (2, 'b'), (3, 'c')]\n",
    "\n",
    "# Example 2: Zipping three lists\n",
    "list1 = [1, 2, 3]\n",
    "list2 = ['a', 'b', 'c']\n",
    "list3 = [True, False, True]\n",
    "zipped = zip(list1, list2, list3)\n",
    "print(list(zipped))  # Output: [(1, 'a', True), (2, 'b', False), (3, 'c', True)]\n",
    "\n",
    "# Example 3: Zipping lists of different lengths\n",
    "list1 = [1, 2, 3]\n",
    "list2 = ['a', 'b']\n",
    "zipped = zip(list1, list2)\n",
    "print(list(zipped))  # Output: [(1, 'a'), (2, 'b')]\n",
    "# Note: The resulting iterator stops when the shortest input iterable is exhausted."
   ]
  },
  {
   "cell_type": "markdown",
   "metadata": {},
   "source": [
    "**Usage in loops**\n"
   ]
  },
  {
   "cell_type": "code",
   "execution_count": null,
   "metadata": {},
   "outputs": [],
   "source": [
    "# Example 4: Using zip in a loop\n",
    "list1 = [1, 2, 3]\n",
    "list2 = ['a', 'b', 'c']\n",
    "for num, char in zip(list1, list2):\n",
    "    print(f\"Number: {num}, Character: {char}\")\n",
    "# Output:\n",
    "# Number: 1, Character: a\n",
    "# Number: 2, Character: b\n",
    "# Number: 3, Character: c"
   ]
  },
  {
   "cell_type": "markdown",
   "metadata": {},
   "source": [
    "\n",
    "**Unzipping**\n",
    "\n",
    "You can also unzip a list of tuples back into individual lists using the `zip` function with the unpacking operator `*`:"
   ]
  },
  {
   "cell_type": "code",
   "execution_count": null,
   "metadata": {},
   "outputs": [],
   "source": [
    "# Example 5: Unzipping\n",
    "zipped = [(1, 'a'), (2, 'b'), (3, 'c')]\n",
    "list1, list2 = zip(*zipped)\n",
    "print(list1)  # Output: (1, 2, 3)\n",
    "print(list2)  # Output: ('a', 'b', 'c')"
   ]
  },
  {
   "cell_type": "markdown",
   "metadata": {},
   "source": [
    "**Relation to a dictionary**\n",
    "\n",
    "A `zip` object can be used to create a dictionary by passing it to the `dict` constructor.\n"
   ]
  },
  {
   "cell_type": "code",
   "execution_count": null,
   "metadata": {},
   "outputs": [],
   "source": [
    "keys = ['movie', 'year', 'director']\n",
    "values = [\n",
    "    ['Forest Gump', 'Goodfellas', 'Se7en'],\n",
    "    [1994, 1990, 1995],\n",
    "    ['R.Zemeckis', 'M.Scorsese', 'D.Fincher']\n",
    "]\n",
    "\n",
    "movie_dict = dict(zip(keys, values))\n",
    "print(movie_dict)\n",
    "# Output:\n",
    "# {'movie': ['Forest Gump', 'Goodfellas', 'Se7en'],\n",
    "#  'year': [1994, 1990, 1995],\n",
    "#  'director': ['R.Zemeckis', 'M.Scorsese', 'D.Fincher']}\n"
   ]
  },
  {
   "cell_type": "markdown",
   "metadata": {},
   "source": [
    "**Creating a Dataframe**\n",
    "\n",
    "list() → zip() → dict() → DataFrame()"
   ]
  },
  {
   "cell_type": "code",
   "execution_count": 17,
   "metadata": {},
   "outputs": [
    {
     "name": "stdout",
     "output_type": "stream",
     "text": [
      "         movie  year    director\n",
      "0  Forest Gump  1994  R.Zemeckis\n",
      "1   Goodfellas  1990  M.Scorsese\n",
      "2        Se7en  1995   D.Fincher\n"
     ]
    }
   ],
   "source": [
    "import pandas as pd\n",
    "\n",
    "# Create a DataFrame from the movie dictionary\n",
    "movie_df = pd.DataFrame(movie_dict)\n",
    "print(movie_df)\n",
    "# Output:\n",
    "#          movie  year    director\n",
    "# 0  Forest Gump  1994  R.Zemeckis\n",
    "# 1   Goodfellas  1990  M.Scorsese\n",
    "# 2      Se7en    1995   D.Fincher\n"
   ]
  },
  {
   "cell_type": "markdown",
   "metadata": {},
   "source": [
    "## Generators\n",
    "A special iterable object created by a function having a yield keyword in its body.   \n",
    "\n",
    "**Benefits**\n",
    "- simple way to create a custom iterable object\n",
    "- lazy initialization\n",
    "- possibility to create infinite iterable objects\n",
    "\n",
    "**Difference between return and yield**\n",
    "- `return` terminates a function entirely.\n",
    "\n",
    "- `yield` pauses the function, saving its state, and returns a value immediately.\n",
    "- The function can be resumed from the same state it was paused, allowing for more efficient iteration.\n",
    "\n",
    "\n",
    "\n",
    "**Generator Expression**\n",
    "\n",
    "Generator expression is similar to list comprehension, but it returns a generator instead of a list.\n",
    "\n",
    "```\n",
    "my_generator = (x for x in range(10))\n",
    "```\n",
    "\n",
    "**Generator Function**\n",
    "\n",
    "Generator function is a special type of function that returns a generator.\n",
    "\n",
    "```\n",
    "def func(n):\n",
    "    for i in range(0, n):\n",
    "        yield 2*i\n",
    "```"
   ]
  },
  {
   "cell_type": "markdown",
   "metadata": {},
   "source": [
    "### Generator as Iterator\n",
    "\n",
    "Generator is an Iterable AND an Iterator."
   ]
  },
  {
   "cell_type": "code",
   "execution_count": 20,
   "metadata": {},
   "outputs": [
    {
     "name": "stdout",
     "output_type": "stream",
     "text": [
      "0\n",
      "2\n",
      "4\n"
     ]
    },
    {
     "ename": "StopIteration",
     "evalue": "",
     "output_type": "error",
     "traceback": [
      "\u001b[0;31m---------------------------------------------------------------------------\u001b[0m",
      "\u001b[0;31mStopIteration\u001b[0m                             Traceback (most recent call last)",
      "Cell \u001b[0;32mIn[20], line 10\u001b[0m\n\u001b[1;32m      8\u001b[0m \u001b[38;5;28mprint\u001b[39m(\u001b[38;5;28mnext\u001b[39m(result)) \u001b[38;5;66;03m# 2\u001b[39;00m\n\u001b[1;32m      9\u001b[0m \u001b[38;5;28mprint\u001b[39m(\u001b[38;5;28mnext\u001b[39m(result)) \u001b[38;5;66;03m# 4\u001b[39;00m\n\u001b[0;32m---> 10\u001b[0m \u001b[38;5;28mprint\u001b[39m(\u001b[38;5;28;43mnext\u001b[39;49m\u001b[43m(\u001b[49m\u001b[43mresult\u001b[49m\u001b[43m)\u001b[49m) \u001b[38;5;66;03m# StopIteration\u001b[39;00m\n",
      "\u001b[0;31mStopIteration\u001b[0m: "
     ]
    }
   ],
   "source": [
    "def func(n):\n",
    "    for i in range(0, n):\n",
    "        yield 2*i\n",
    "\n",
    "result = func(3)\n",
    "\n",
    "print(next(result)) # 0\n",
    "print(next(result)) # 2\n",
    "print(next(result)) # 4\n",
    "print(next(result)) # StopIteration\n",
    "\n"
   ]
  },
  {
   "cell_type": "markdown",
   "metadata": {},
   "source": [
    "### Generators are expendable\n",
    "Once a generator is exhausted, it cannot be reused."
   ]
  },
  {
   "cell_type": "code",
   "execution_count": 21,
   "metadata": {},
   "outputs": [
    {
     "name": "stdout",
     "output_type": "stream",
     "text": [
      "0\n",
      "2\n",
      "4\n"
     ]
    }
   ],
   "source": [
    "def func(n):\n",
    "    for i in range(0, n):\n",
    "        yield 2*i\n",
    "\n",
    "result = func(3)\n",
    "\n",
    "for item in result:\n",
    "    print(item)\n",
    "# Output:\n",
    "# 0\n",
    "# 2\n",
    "# 4\n"
   ]
  },
  {
   "cell_type": "code",
   "execution_count": 23,
   "metadata": {},
   "outputs": [],
   "source": [
    "for item in result:\n",
    "    print(item)\n",
    "# Output: Nothing"
   ]
  },
  {
   "cell_type": "code",
   "execution_count": 26,
   "metadata": {},
   "outputs": [
    {
     "data": {
      "text/plain": [
       "[0, 2, 4]"
      ]
     },
     "execution_count": 26,
     "metadata": {},
     "output_type": "execute_result"
    }
   ],
   "source": [
    "result = func(3)\n",
    "list(result)\n",
    "# Output: [0, 2, 4]"
   ]
  },
  {
   "cell_type": "code",
   "execution_count": 27,
   "metadata": {},
   "outputs": [
    {
     "data": {
      "text/plain": [
       "[]"
      ]
     },
     "execution_count": 27,
     "metadata": {},
     "output_type": "execute_result"
    }
   ],
   "source": [
    "list(result)\n",
    "# Output: []"
   ]
  },
  {
   "cell_type": "markdown",
   "metadata": {},
   "source": [
    "### Generator comprehension"
   ]
  },
  {
   "cell_type": "code",
   "execution_count": 28,
   "metadata": {},
   "outputs": [
    {
     "name": "stdout",
     "output_type": "stream",
     "text": [
      "<generator object <genexpr> at 0x128e28ba0>\n"
     ]
    }
   ],
   "source": [
    "result = (2*i for i in range(0, 3))\n",
    "print(result)"
   ]
  },
  {
   "cell_type": "markdown",
   "metadata": {},
   "source": [
    "### Traversal\n",
    "\n",
    "Traversal is the process of visiting each element in an iterable."
   ]
  },
  {
   "cell_type": "code",
   "execution_count": 29,
   "metadata": {},
   "outputs": [],
   "source": [
    "result = (2*i for i in range(0, 3))"
   ]
  },
  {
   "cell_type": "code",
   "execution_count": 30,
   "metadata": {},
   "outputs": [
    {
     "name": "stdout",
     "output_type": "stream",
     "text": [
      "0\n",
      "2\n",
      "4\n"
     ]
    }
   ],
   "source": [
    "for item in result:\n",
    "    print(item)"
   ]
  },
  {
   "cell_type": "code",
   "execution_count": 32,
   "metadata": {},
   "outputs": [
    {
     "ename": "StopIteration",
     "evalue": "",
     "output_type": "error",
     "traceback": [
      "\u001b[0;31m---------------------------------------------------------------------------\u001b[0m",
      "\u001b[0;31mStopIteration\u001b[0m                             Traceback (most recent call last)",
      "Cell \u001b[0;32mIn[32], line 1\u001b[0m\n\u001b[0;32m----> 1\u001b[0m \u001b[38;5;28;43mnext\u001b[39;49m\u001b[43m(\u001b[49m\u001b[43mresult\u001b[49m\u001b[43m)\u001b[49m \u001b[38;5;66;03m# StopIteration\u001b[39;00m\n",
      "\u001b[0;31mStopIteration\u001b[0m: "
     ]
    }
   ],
   "source": [
    "next(result) # StopIteration"
   ]
  }
 ],
 "metadata": {
  "kernelspec": {
   "display_name": "advanced-python-coding-QfLDxTC9-py3.11",
   "language": "python",
   "name": "python3"
  },
  "language_info": {
   "codemirror_mode": {
    "name": "ipython",
    "version": 3
   },
   "file_extension": ".py",
   "mimetype": "text/x-python",
   "name": "python",
   "nbconvert_exporter": "python",
   "pygments_lexer": "ipython3",
   "version": "3.11.3"
  }
 },
 "nbformat": 4,
 "nbformat_minor": 2
}
