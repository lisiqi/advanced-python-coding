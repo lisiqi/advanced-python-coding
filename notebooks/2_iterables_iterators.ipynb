{
 "cells": [
  {
   "cell_type": "markdown",
   "metadata": {},
   "source": [
    "# Iterable Objects & Iterators\n",
    "\n",
    "**Iterable Objects** (**Iterables**): Any object that can be looped over using a for loop. Object that can return an iterator. Examples include lists, tuples, strings, and dictionaries. An iterable has an `__iter__()` method that returns an iterator.\n",
    "\n",
    "**Iterators**: An object that represents a stream of data. It returns the next value with the `__next__()` method and raises a StopIteration exception when there are no more items. An iterator is created from an iterable using the `iter()` function."
   ]
  },
  {
   "cell_type": "code",
   "execution_count": 9,
   "metadata": {},
   "outputs": [
    {
     "name": "stdout",
     "output_type": "stream",
     "text": [
      "1\n",
      "2\n",
      "3\n"
     ]
    }
   ],
   "source": [
    "# Iterable\n",
    "my_list = [1, 2, 3]\n",
    "\n",
    "# Get an iterator from the iterable\n",
    "my_iterator = iter(my_list)\n",
    "\n",
    "# Iterate using the iterator\n",
    "while True:\n",
    "    try:\n",
    "        item = next(my_iterator)\n",
    "        print(item)\n",
    "    except StopIteration:\n",
    "        break"
   ]
  },
  {
   "cell_type": "markdown",
   "metadata": {},
   "source": [
    "## List Comprehensions\n",
    "\n",
    "List comprehension is a concise way to create lists in Python. It allows you to generate a new list by applying an expression to each item in an existing iterable (like a list, tuple, or string) and optionally filtering items with a condition.\n",
    "\n",
    "**Syntax**\n",
    "\n",
    "The basic syntax for a list comprehension is:\n",
    "\n",
    "```\n",
    "new_list = [expression for item in iterable if condition]\n",
    "```\n",
    "\n",
    "- **expression**: The value or transformation to apply to each item.\n",
    "\n",
    "- **item**: The variable representing each element in the iterable.\n",
    "- **iterable**: The collection of items to iterate over.\n",
    "- **condition** (optional): A filter that determines whether the item should be included in the new list.\n",
    "\n"
   ]
  },
  {
   "cell_type": "code",
   "execution_count": null,
   "metadata": {},
   "outputs": [],
   "source": [
    "# Create a list of squares\n",
    "squares = [x**2 for x in range(10)]\n",
    "print(squares)  # Output: [0, 1, 4, 9, 16, 25, 36, 49, 64, 81]\n",
    "\n",
    "# Create a list of even numbers\n",
    "evens = [x for x in range(10) if x % 2 == 0]\n",
    "print(evens)  # Output: [0, 2, 4, 6, 8]\n",
    "\n",
    "# Create a list of squares of even numbers\n",
    "even_squares = [x**2 for x in range(10) if x % 2 == 0]\n",
    "print(even_squares)  # Output: [0, 4, 16, 36, 64]\n",
    "\n",
    "# Create a list of tuples (x, y) for x and y in range(3)\n",
    "pairs = [(x, y) for x in range(3) for y in range(3)]\n",
    "print(pairs)  # Output: [(0, 0), (0, 1), (0, 2), (1, 0), (1, 1), (1, 2), (2, 0), (2, 1), (2, 2)]\n",
    "\n",
    "# Create a list of strings where each string is 'x-y' for x and y in range(3)\n",
    "strings = [f\"{x}-{y}\" for x in range(3) for y in range(3)]\n",
    "print(strings)  # Output: ['0-0', '0-1', '0-2', '1-0', '1-1', '1-2', '2-0', '2-1', '2-2']\n",
    "\n",
    "# Create a list of tuples (x, y) for x in range(3) and y in range(3) if x != y\n",
    "pairs_no_diagonal = [(x, y) for x in range(3) for y in range(3) if x != y]\n",
    "print(pairs_no_diagonal)  # Output: [(0, 1), (0, 2), (1, 0), (1, 2), (2, 0), (2, 1)]\n",
    "\n",
    "# Create a list of lengths of each word in a list\n",
    "words = [\"hello\", \"world\", \"python\"]\n",
    "lengths = [len(word) for word in words]\n",
    "print(lengths)  # Output: [5, 5, 6]\n"
   ]
  },
  {
   "cell_type": "code",
   "execution_count": 3,
   "metadata": {},
   "outputs": [
    {
     "name": "stdout",
     "output_type": "stream",
     "text": [
      "primes = [5, 13, 17, 29, 37, 41]\n"
     ]
    }
   ],
   "source": [
    "import math\n",
    "def is_prime(n):\n",
    "    # Define the initial check\n",
    "    if n < 2:\n",
    "       return False\n",
    "    # Define the loop checking if a number is not prime\n",
    "    for i in range(2, int(math.sqrt(n)) + 1):\n",
    "        if n % i == 0:\n",
    "            return False\n",
    "    return True\n",
    "    \n",
    "# Filter prime numbers into the new list\n",
    "cands = [1, 5, 9, 13, 17, 21, 25, 29, 33, 37, 41, 45, 49]\n",
    "primes = [num for num in cands if is_prime(num)]\n",
    "print(\"primes = \" + str(primes))"
   ]
  },
  {
   "cell_type": "markdown",
   "metadata": {},
   "source": [
    "## Zip object\n",
    "\n",
    "The `zip` function in Python is used to combine multiple iterables (like lists, tuples, etc.) into a single iterator of tuples. Each tuple contains elements from the corresponding positions of the input iterables. \n",
    "\n",
    "The `zip` function is very useful for parallel iteration and combining data from multiple sources.\n",
    "\n",
    "Here's a brief explanation and some examples:\n",
    "\n",
    "**Explanation**\n",
    "- **Syntax**: `zip(*iterables)`\n",
    "\n",
    "- **Parameters**: One or more iterables (e.g., lists, tuples).\n",
    "- **Returns**: An iterator of tuples, where the i-th tuple contains the i-th element from each of the input iterables.\n",
    "\n",
    "**Examples**\n"
   ]
  },
  {
   "cell_type": "code",
   "execution_count": null,
   "metadata": {},
   "outputs": [],
   "source": [
    "# Example 1: Zipping two lists\n",
    "list1 = [1, 2, 3]\n",
    "list2 = ['a', 'b', 'c']\n",
    "zipped = zip(list1, list2)\n",
    "print(list(zipped))  # Output: [(1, 'a'), (2, 'b'), (3, 'c')]\n",
    "\n",
    "# Example 2: Zipping three lists\n",
    "list1 = [1, 2, 3]\n",
    "list2 = ['a', 'b', 'c']\n",
    "list3 = [True, False, True]\n",
    "zipped = zip(list1, list2, list3)\n",
    "print(list(zipped))  # Output: [(1, 'a', True), (2, 'b', False), (3, 'c', True)]\n",
    "\n",
    "# Example 3: Zipping lists of different lengths\n",
    "list1 = [1, 2, 3]\n",
    "list2 = ['a', 'b']\n",
    "zipped = zip(list1, list2)\n",
    "print(list(zipped))  # Output: [(1, 'a'), (2, 'b')]\n",
    "# Note: The resulting iterator stops when the shortest input iterable is exhausted."
   ]
  },
  {
   "cell_type": "markdown",
   "metadata": {},
   "source": [
    "**Usage in loops**\n"
   ]
  },
  {
   "cell_type": "code",
   "execution_count": null,
   "metadata": {},
   "outputs": [],
   "source": [
    "# Example 4: Using zip in a loop\n",
    "list1 = [1, 2, 3]\n",
    "list2 = ['a', 'b', 'c']\n",
    "for num, char in zip(list1, list2):\n",
    "    print(f\"Number: {num}, Character: {char}\")\n",
    "# Output:\n",
    "# Number: 1, Character: a\n",
    "# Number: 2, Character: b\n",
    "# Number: 3, Character: c"
   ]
  },
  {
   "cell_type": "markdown",
   "metadata": {},
   "source": [
    "\n",
    "**Unzipping**\n",
    "\n",
    "You can also unzip a list of tuples back into individual lists using the `zip` function with the unpacking operator `*`:"
   ]
  },
  {
   "cell_type": "code",
   "execution_count": null,
   "metadata": {},
   "outputs": [],
   "source": [
    "# Example 5: Unzipping\n",
    "zipped = [(1, 'a'), (2, 'b'), (3, 'c')]\n",
    "list1, list2 = zip(*zipped)\n",
    "print(list1)  # Output: (1, 2, 3)\n",
    "print(list2)  # Output: ('a', 'b', 'c')"
   ]
  },
  {
   "cell_type": "markdown",
   "metadata": {},
   "source": [
    "**Relation to a dictionary**\n",
    "\n",
    "A `zip` object can be used to create a dictionary by passing it to the `dict` constructor.\n"
   ]
  },
  {
   "cell_type": "code",
   "execution_count": null,
   "metadata": {},
   "outputs": [],
   "source": [
    "keys = ['movie', 'year', 'director']\n",
    "values = [\n",
    "    ['Forest Gump', 'Goodfellas', 'Se7en'],\n",
    "    [1994, 1990, 1995],\n",
    "    ['R.Zemeckis', 'M.Scorsese', 'D.Fincher']\n",
    "]\n",
    "\n",
    "movie_dict = dict(zip(keys, values))\n",
    "print(movie_dict)\n",
    "# Output:\n",
    "# {'movie': ['Forest Gump', 'Goodfellas', 'Se7en'],\n",
    "#  'year': [1994, 1990, 1995],\n",
    "#  'director': ['R.Zemeckis', 'M.Scorsese', 'D.Fincher']}\n"
   ]
  },
  {
   "cell_type": "markdown",
   "metadata": {},
   "source": [
    "**Creating a Dataframe**\n",
    "\n",
    "list() → zip() → dict() → DataFrame()"
   ]
  },
  {
   "cell_type": "code",
   "execution_count": 17,
   "metadata": {},
   "outputs": [
    {
     "name": "stdout",
     "output_type": "stream",
     "text": [
      "         movie  year    director\n",
      "0  Forest Gump  1994  R.Zemeckis\n",
      "1   Goodfellas  1990  M.Scorsese\n",
      "2        Se7en  1995   D.Fincher\n"
     ]
    }
   ],
   "source": [
    "import pandas as pd\n",
    "\n",
    "# Create a DataFrame from the movie dictionary\n",
    "movie_df = pd.DataFrame(movie_dict)\n",
    "print(movie_df)\n",
    "# Output:\n",
    "#          movie  year    director\n",
    "# 0  Forest Gump  1994  R.Zemeckis\n",
    "# 1   Goodfellas  1990  M.Scorsese\n",
    "# 2      Se7en    1995   D.Fincher\n"
   ]
  },
  {
   "cell_type": "code",
   "execution_count": 4,
   "metadata": {},
   "outputs": [
    {
     "name": "stdout",
     "output_type": "stream",
     "text": [
      "(['Python', 'creativity', 'universe'], 3, 'creativity')\n",
      "(['interview', 'study', 'job', 'university', 'lecture'], 5, 'university')\n",
      "(['task', 'objective', 'aim', 'subject', 'programming', 'test', 'research'], 7, 'programming')\n"
     ]
    }
   ],
   "source": [
    "wlist = [['Python', 'creativity', 'universe'], \n",
    "         ['interview', 'study', 'job', 'university', 'lecture'], \n",
    "         ['task', 'objective', 'aim', 'subject', 'programming', 'test', 'research']]\n",
    "\n",
    "# Define a function searching for the longest word\n",
    "def get_longest_word(words):\n",
    "    longest_word = ''\n",
    "    for word in words:\n",
    "        if len(word) > len(longest_word):\n",
    "            longest_word = word\n",
    "    return longest_word\n",
    "\n",
    "# Create a list of the lengths of each list in wlist\n",
    "lengths = [len(item) for item in wlist]\n",
    "\n",
    "# Create a list of the longest words in each list in wlist\n",
    "words = [get_longest_word(item) for item in wlist]\n",
    "\n",
    "# Combine the resulting data into one iterable object\n",
    "for item in zip(wlist, lengths, words):\n",
    "    print(item)"
   ]
  },
  {
   "cell_type": "code",
   "execution_count": 5,
   "metadata": {},
   "outputs": [
    {
     "name": "stdout",
     "output_type": "stream",
     "text": [
      "(['Python', 'creativity', 'universe'], 3, 'creativity')\n",
      "(['interview', 'study', 'job', 'university', 'lecture'], 5, 'university')\n",
      "(['task', 'objective', 'aim', 'subject', 'programming', 'test', 'research'], 7, 'programming')\n"
     ]
    }
   ],
   "source": [
    "# Create a list of tuples with lengths and longest words\n",
    "result = [\n",
    "    (len(item), get_longest_word(item)) for item in wlist\n",
    "]\n",
    "\n",
    "# Unzip the result    \n",
    "lengths, words = zip(*result)\n",
    "\n",
    "for item in zip(wlist, lengths, words):\n",
    "    print(item)"
   ]
  },
  {
   "cell_type": "code",
   "execution_count": 9,
   "metadata": {},
   "outputs": [
    {
     "name": "stdout",
     "output_type": "stream",
     "text": [
      "           word  length\n",
      "0        Python       6\n",
      "1    creativity      10\n",
      "2      universe       8\n",
      "3     interview       9\n",
      "4         study       5\n",
      "5           job       3\n",
      "6    university      10\n",
      "7       lecture       7\n",
      "8          task       4\n",
      "9     objective       9\n",
      "10          aim       3\n",
      "11      subject       7\n",
      "12  programming      11\n",
      "13         test       4\n",
      "14     research       8\n"
     ]
    }
   ],
   "source": [
    "import pandas as pd\n",
    "# Create a list of tuples with words and their lengths\n",
    "word_lengths = [\n",
    "    (item, len(item)) for items in wlist for item in items\n",
    "]\n",
    "\n",
    "# Unwrap the word_lengths\n",
    "words, lengths = zip(*word_lengths)\n",
    "\n",
    "# Create a zip object\n",
    "col_names = ['word', 'length']\n",
    "result = zip(col_names, [words, lengths])\n",
    "\n",
    "# Convert the result to a dictionary and build a DataFrame\n",
    "data_frame = pd.DataFrame(dict(result))\n",
    "print(data_frame)"
   ]
  },
  {
   "cell_type": "code",
   "execution_count": 10,
   "metadata": {},
   "outputs": [
    {
     "data": {
      "text/plain": [
       "[('Python', 6),\n",
       " ('creativity', 10),\n",
       " ('universe', 8),\n",
       " ('interview', 9),\n",
       " ('study', 5),\n",
       " ('job', 3),\n",
       " ('university', 10),\n",
       " ('lecture', 7),\n",
       " ('task', 4),\n",
       " ('objective', 9),\n",
       " ('aim', 3),\n",
       " ('subject', 7),\n",
       " ('programming', 11),\n",
       " ('test', 4),\n",
       " ('research', 8)]"
      ]
     },
     "execution_count": 10,
     "metadata": {},
     "output_type": "execute_result"
    }
   ],
   "source": [
    "word_lengths"
   ]
  },
  {
   "cell_type": "code",
   "execution_count": 13,
   "metadata": {},
   "outputs": [
    {
     "data": {
      "text/html": [
       "<div>\n",
       "<style scoped>\n",
       "    .dataframe tbody tr th:only-of-type {\n",
       "        vertical-align: middle;\n",
       "    }\n",
       "\n",
       "    .dataframe tbody tr th {\n",
       "        vertical-align: top;\n",
       "    }\n",
       "\n",
       "    .dataframe thead th {\n",
       "        text-align: right;\n",
       "    }\n",
       "</style>\n",
       "<table border=\"1\" class=\"dataframe\">\n",
       "  <thead>\n",
       "    <tr style=\"text-align: right;\">\n",
       "      <th></th>\n",
       "      <th>word</th>\n",
       "      <th>length</th>\n",
       "    </tr>\n",
       "  </thead>\n",
       "  <tbody>\n",
       "    <tr>\n",
       "      <th>0</th>\n",
       "      <td>Python</td>\n",
       "      <td>6</td>\n",
       "    </tr>\n",
       "    <tr>\n",
       "      <th>1</th>\n",
       "      <td>creativity</td>\n",
       "      <td>10</td>\n",
       "    </tr>\n",
       "    <tr>\n",
       "      <th>2</th>\n",
       "      <td>universe</td>\n",
       "      <td>8</td>\n",
       "    </tr>\n",
       "    <tr>\n",
       "      <th>3</th>\n",
       "      <td>interview</td>\n",
       "      <td>9</td>\n",
       "    </tr>\n",
       "    <tr>\n",
       "      <th>4</th>\n",
       "      <td>study</td>\n",
       "      <td>5</td>\n",
       "    </tr>\n",
       "    <tr>\n",
       "      <th>5</th>\n",
       "      <td>job</td>\n",
       "      <td>3</td>\n",
       "    </tr>\n",
       "    <tr>\n",
       "      <th>6</th>\n",
       "      <td>university</td>\n",
       "      <td>10</td>\n",
       "    </tr>\n",
       "    <tr>\n",
       "      <th>7</th>\n",
       "      <td>lecture</td>\n",
       "      <td>7</td>\n",
       "    </tr>\n",
       "    <tr>\n",
       "      <th>8</th>\n",
       "      <td>task</td>\n",
       "      <td>4</td>\n",
       "    </tr>\n",
       "    <tr>\n",
       "      <th>9</th>\n",
       "      <td>objective</td>\n",
       "      <td>9</td>\n",
       "    </tr>\n",
       "    <tr>\n",
       "      <th>10</th>\n",
       "      <td>aim</td>\n",
       "      <td>3</td>\n",
       "    </tr>\n",
       "    <tr>\n",
       "      <th>11</th>\n",
       "      <td>subject</td>\n",
       "      <td>7</td>\n",
       "    </tr>\n",
       "    <tr>\n",
       "      <th>12</th>\n",
       "      <td>programming</td>\n",
       "      <td>11</td>\n",
       "    </tr>\n",
       "    <tr>\n",
       "      <th>13</th>\n",
       "      <td>test</td>\n",
       "      <td>4</td>\n",
       "    </tr>\n",
       "    <tr>\n",
       "      <th>14</th>\n",
       "      <td>research</td>\n",
       "      <td>8</td>\n",
       "    </tr>\n",
       "  </tbody>\n",
       "</table>\n",
       "</div>"
      ],
      "text/plain": [
       "           word  length\n",
       "0        Python       6\n",
       "1    creativity      10\n",
       "2      universe       8\n",
       "3     interview       9\n",
       "4         study       5\n",
       "5           job       3\n",
       "6    university      10\n",
       "7       lecture       7\n",
       "8          task       4\n",
       "9     objective       9\n",
       "10          aim       3\n",
       "11      subject       7\n",
       "12  programming      11\n",
       "13         test       4\n",
       "14     research       8"
      ]
     },
     "execution_count": 13,
     "metadata": {},
     "output_type": "execute_result"
    }
   ],
   "source": [
    "# Another way to create a DataFrame from a list of tuples\n",
    "pd.DataFrame(word_lengths, columns=['word', 'length'])"
   ]
  },
  {
   "cell_type": "markdown",
   "metadata": {},
   "source": [
    "## Generators\n",
    "A special iterable object created by a function having a yield keyword in its body.   \n",
    "\n",
    "**Benefits**\n",
    "- simple way to create a custom iterable object\n",
    "- lazy initialization\n",
    "- possibility to create infinite iterable objects\n",
    "\n",
    "**Difference between return and yield**\n",
    "- `return` terminates a function entirely.\n",
    "\n",
    "- `yield` pauses the function, saving its state, and returns a value immediately.\n",
    "- The function can be resumed from the same state it was paused, allowing for more efficient iteration.\n",
    "\n",
    "\n",
    "\n",
    "**Generator Expression**\n",
    "\n",
    "Generator expression is similar to list comprehension, but it returns a generator instead of a list.\n",
    "\n",
    "```\n",
    "my_generator = (x for x in range(10))\n",
    "```\n",
    "\n",
    "**Generator Function**\n",
    "\n",
    "Generator function is a special type of function that returns a generator.\n",
    "\n",
    "```\n",
    "def func(n):\n",
    "    for i in range(0, n):\n",
    "        yield 2*i\n",
    "```"
   ]
  },
  {
   "cell_type": "markdown",
   "metadata": {},
   "source": [
    "### Generator as Iterator\n",
    "\n",
    "Generator is an Iterable AND an Iterator."
   ]
  },
  {
   "cell_type": "code",
   "execution_count": 20,
   "metadata": {},
   "outputs": [
    {
     "name": "stdout",
     "output_type": "stream",
     "text": [
      "0\n",
      "2\n",
      "4\n"
     ]
    },
    {
     "ename": "StopIteration",
     "evalue": "",
     "output_type": "error",
     "traceback": [
      "\u001b[0;31m---------------------------------------------------------------------------\u001b[0m",
      "\u001b[0;31mStopIteration\u001b[0m                             Traceback (most recent call last)",
      "Cell \u001b[0;32mIn[20], line 10\u001b[0m\n\u001b[1;32m      8\u001b[0m \u001b[38;5;28mprint\u001b[39m(\u001b[38;5;28mnext\u001b[39m(result)) \u001b[38;5;66;03m# 2\u001b[39;00m\n\u001b[1;32m      9\u001b[0m \u001b[38;5;28mprint\u001b[39m(\u001b[38;5;28mnext\u001b[39m(result)) \u001b[38;5;66;03m# 4\u001b[39;00m\n\u001b[0;32m---> 10\u001b[0m \u001b[38;5;28mprint\u001b[39m(\u001b[38;5;28;43mnext\u001b[39;49m\u001b[43m(\u001b[49m\u001b[43mresult\u001b[49m\u001b[43m)\u001b[49m) \u001b[38;5;66;03m# StopIteration\u001b[39;00m\n",
      "\u001b[0;31mStopIteration\u001b[0m: "
     ]
    }
   ],
   "source": [
    "def func(n):\n",
    "    for i in range(0, n):\n",
    "        yield 2*i\n",
    "\n",
    "result = func(3)\n",
    "\n",
    "print(next(result)) # 0\n",
    "print(next(result)) # 2\n",
    "print(next(result)) # 4\n",
    "print(next(result)) # StopIteration\n",
    "\n"
   ]
  },
  {
   "cell_type": "markdown",
   "metadata": {},
   "source": [
    "### Generators are expendable\n",
    "Once a generator is exhausted, it cannot be reused."
   ]
  },
  {
   "cell_type": "code",
   "execution_count": 21,
   "metadata": {},
   "outputs": [
    {
     "name": "stdout",
     "output_type": "stream",
     "text": [
      "0\n",
      "2\n",
      "4\n"
     ]
    }
   ],
   "source": [
    "def func(n):\n",
    "    for i in range(0, n):\n",
    "        yield 2*i\n",
    "\n",
    "result = func(3)\n",
    "\n",
    "for item in result:\n",
    "    print(item)\n",
    "# Output:\n",
    "# 0\n",
    "# 2\n",
    "# 4\n"
   ]
  },
  {
   "cell_type": "code",
   "execution_count": 23,
   "metadata": {},
   "outputs": [],
   "source": [
    "for item in result:\n",
    "    print(item)\n",
    "# Output: Nothing"
   ]
  },
  {
   "cell_type": "code",
   "execution_count": 26,
   "metadata": {},
   "outputs": [
    {
     "data": {
      "text/plain": [
       "[0, 2, 4]"
      ]
     },
     "execution_count": 26,
     "metadata": {},
     "output_type": "execute_result"
    }
   ],
   "source": [
    "result = func(3)\n",
    "list(result)\n",
    "# Output: [0, 2, 4]"
   ]
  },
  {
   "cell_type": "code",
   "execution_count": 27,
   "metadata": {},
   "outputs": [
    {
     "data": {
      "text/plain": [
       "[]"
      ]
     },
     "execution_count": 27,
     "metadata": {},
     "output_type": "execute_result"
    }
   ],
   "source": [
    "list(result)\n",
    "# Output: []"
   ]
  },
  {
   "cell_type": "markdown",
   "metadata": {},
   "source": [
    "### Generator comprehension"
   ]
  },
  {
   "cell_type": "code",
   "execution_count": 28,
   "metadata": {},
   "outputs": [
    {
     "name": "stdout",
     "output_type": "stream",
     "text": [
      "<generator object <genexpr> at 0x128e28ba0>\n"
     ]
    }
   ],
   "source": [
    "result = (2*i for i in range(0, 3))\n",
    "print(result)"
   ]
  },
  {
   "cell_type": "markdown",
   "metadata": {},
   "source": [
    "### Traversal\n",
    "\n",
    "Traversal is the process of visiting each element in an iterable."
   ]
  },
  {
   "cell_type": "code",
   "execution_count": 29,
   "metadata": {},
   "outputs": [],
   "source": [
    "result = (2*i for i in range(0, 3))"
   ]
  },
  {
   "cell_type": "code",
   "execution_count": 30,
   "metadata": {},
   "outputs": [
    {
     "name": "stdout",
     "output_type": "stream",
     "text": [
      "0\n",
      "2\n",
      "4\n"
     ]
    }
   ],
   "source": [
    "for item in result:\n",
    "    print(item)"
   ]
  },
  {
   "cell_type": "code",
   "execution_count": 32,
   "metadata": {},
   "outputs": [
    {
     "ename": "StopIteration",
     "evalue": "",
     "output_type": "error",
     "traceback": [
      "\u001b[0;31m---------------------------------------------------------------------------\u001b[0m",
      "\u001b[0;31mStopIteration\u001b[0m                             Traceback (most recent call last)",
      "Cell \u001b[0;32mIn[32], line 1\u001b[0m\n\u001b[0;32m----> 1\u001b[0m \u001b[38;5;28;43mnext\u001b[39;49m\u001b[43m(\u001b[49m\u001b[43mresult\u001b[49m\u001b[43m)\u001b[49m \u001b[38;5;66;03m# StopIteration\u001b[39;00m\n",
      "\u001b[0;31mStopIteration\u001b[0m: "
     ]
    }
   ],
   "source": [
    "next(result) # StopIteration"
   ]
  }
 ],
 "metadata": {
  "kernelspec": {
   "display_name": "advanced-python-coding-QfLDxTC9-py3.11",
   "language": "python",
   "name": "python3"
  },
  "language_info": {
   "codemirror_mode": {
    "name": "ipython",
    "version": 3
   },
   "file_extension": ".py",
   "mimetype": "text/x-python",
   "name": "python",
   "nbconvert_exporter": "python",
   "pygments_lexer": "ipython3",
   "version": "3.11.3"
  }
 },
 "nbformat": 4,
 "nbformat_minor": 2
}
