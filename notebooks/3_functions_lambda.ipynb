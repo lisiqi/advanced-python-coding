{
 "cells": [
  {
   "cell_type": "markdown",
   "metadata": {},
   "source": [
    "# Functions and Lambda Expressions\n",
    "\n",
    "## Function\n",
    "\n",
    "A function is a block of code that performs a specific task. It can take input parameters, process them, and return a result.\n",
    "\n",
    "**Argument types**\n",
    "\n",
    "There are two types of arguments:\n",
    "- positional arguments\n",
    "\n",
    "- keyword arguments\n"
   ]
  },
  {
   "cell_type": "code",
   "execution_count": 6,
   "metadata": {},
   "outputs": [
    {
     "name": "stdout",
     "output_type": "stream",
     "text": [
      "6\n",
      "24\n",
      "120\n"
     ]
    }
   ],
   "source": [
    "def multiply(*args):\n",
    "    result = 1\n",
    "    for arg in args:\n",
    "        result = result * arg\n",
    "    return result\n",
    "print(multiply(1, 2, 3))\n",
    "print(multiply(1, 2, 3, 4))\n",
    "\n",
    "nums = (2, 3, 4, 5) # tuple\n",
    "print(multiply(*nums)) # * unpacks the tuple into individual arguments"
   ]
  },
  {
   "cell_type": "code",
   "execution_count": 9,
   "metadata": {},
   "outputs": [
    {
     "name": "stdout",
     "output_type": "stream",
     "text": [
      "a = 1\n",
      "b = 2\n",
      "c = 3\n",
      "6\n",
      "num1 = 10\n",
      "num2 = 20\n",
      "num3 = 30\n",
      "6000\n"
     ]
    }
   ],
   "source": [
    "def multiply_kwargs(**kwargs):\n",
    "    result = 1\n",
    "    for (key, value) in kwargs.items():\n",
    "        print(key + ' = ' + str(value))\n",
    "        result = result * value\n",
    "    return result\n",
    "\n",
    "print(multiply_kwargs(a=1, b=2, c=3))\n",
    "\n",
    "nums = {'num1': 10,\n",
    "        'num2': 20,\n",
    "        'num3': 30}\n",
    "print(multiply_kwargs(**nums)) # ** unpacks the dictionary into individual keyword arguments    "
   ]
  },
  {
   "cell_type": "markdown",
   "metadata": {},
   "source": [
    "**Augument Order**\n",
    "\n",
    "`def func(arg1, arg2, *args, kwarg1, kwarg2, **kwargs):`\n",
    "\n",
    "- arg1 , arg2 - positional arguments\n",
    "- *args - positional arguments of variable size\n",
    "- kwarg1 , kwarg2 - keyword arguments\n",
    "- **kwargs - keyword arguments of variable size"
   ]
  },
  {
   "cell_type": "code",
   "execution_count": 46,
   "metadata": {},
   "outputs": [
    {
     "name": "stdout",
     "output_type": "stream",
     "text": [
      "([1.57, 4, 5, 0.89], ['car', 'hat', 'tree'])\n"
     ]
    }
   ],
   "source": [
    "# Define the function with an arbitrary number of arguments\n",
    "def sort_types(*args):\n",
    "    nums, strings = [], []    \n",
    "    for arg in args:\n",
    "        # Check if 'arg' is a number and add it to 'nums'\n",
    "        if isinstance(arg, (int,float)):\n",
    "            nums.append(arg)\n",
    "        # Check if 'arg' is a string and add it to 'strings'\n",
    "        elif isinstance(arg, str):\n",
    "            strings.append(arg)\n",
    "    \n",
    "    return (nums, strings)\n",
    "            \n",
    "print(sort_types(1.57, 'car', 'hat', 4, 5, 'tree', 0.89))"
   ]
  },
  {
   "cell_type": "code",
   "execution_count": 48,
   "metadata": {},
   "outputs": [
    {
     "name": "stdout",
     "output_type": "stream",
     "text": [
      "{<class 'int'>: ['a', 'b'], <class 'tuple'>: ['c'], <class 'float'>: ['d', 'e']}\n"
     ]
    }
   ],
   "source": [
    "# Define the function with an arbitrary number of arguments\n",
    "def key_types(**kwargs):\n",
    "    dict_type = dict()\n",
    "    # Iterate over key value pairs\n",
    "    for key, value in kwargs.items():\n",
    "        # Update a list associated with a key\n",
    "        if type(value) in dict_type:\n",
    "            dict_type[type(value)].append(key)\n",
    "        else:\n",
    "            dict_type[type(value)] = [key]            \n",
    "    return dict_type\n",
    "  \n",
    "res = key_types(a=1, b=2, c=(1, 2), d=3.1, e=4.2)\n",
    "print(res)"
   ]
  },
  {
   "cell_type": "code",
   "execution_count": 52,
   "metadata": {},
   "outputs": [
    {
     "name": "stdout",
     "output_type": "stream",
     "text": [
      "([1, 2.0, 5.1, 0.0, 5], ['dog', 'cat'])\n"
     ]
    }
   ],
   "source": [
    "# Define the arguments passed to the function\n",
    "def sort_all_types(*args, **kwargs):\n",
    "\n",
    "    # Find all the numbers and strings in the 1st argument\n",
    "    nums1, strings1 = sort_types(*args)\n",
    "    \n",
    "    # Find all the numbers and strings in the 2nd argument\n",
    "    nums2, strings2 = sort_types(*kwargs.values())\n",
    "    \n",
    "    return (nums1 + nums2, strings1 + strings2)\n",
    "\n",
    "  \n",
    "res = sort_all_types(\n",
    "\t1, 2.0, 'dog', 5.1, num1 = 0.0, num2 = 5, str1 = 'cat'\n",
    ")\n",
    "print(res)"
   ]
  },
  {
   "cell_type": "markdown",
   "metadata": {},
   "source": [
    "## Lambda Expression\n",
    "\n",
    "A lambda expression is a small *anonymous* function that can have any number of arguments, but can only have one expression.\n",
    "\n",
    "**Syntax**\n",
    "\n",
    "```\n",
    "lambda arg1, arg2, ...: expression(arg1, arg2, ...)\n",
    "```"
   ]
  },
  {
   "cell_type": "markdown",
   "metadata": {},
   "source": [
    "**Practical Use**\n",
    "\n",
    "Use lambda expressions when it is really necessary!\n",
    "\n",
    "- within function bodies to perform a small task\n",
    "- as arguments to higher-order functions (functions that take other functions as arguments)"
   ]
  },
  {
   "cell_type": "code",
   "execution_count": 10,
   "metadata": {},
   "outputs": [
    {
     "data": {
      "text/plain": [
       "16"
      ]
     },
     "execution_count": 10,
     "metadata": {},
     "output_type": "execute_result"
    }
   ],
   "source": [
    "squared = lambda x: x**2\n",
    "squared(4)"
   ]
  },
  {
   "cell_type": "code",
   "execution_count": 11,
   "metadata": {},
   "outputs": [
    {
     "data": {
      "text/plain": [
       "8"
      ]
     },
     "execution_count": 11,
     "metadata": {},
     "output_type": "execute_result"
    }
   ],
   "source": [
    "power = lambda x, y: x**y # lambda function can have multiple arguments\n",
    "power(2, 3)"
   ]
  },
  {
   "cell_type": "code",
   "execution_count": 13,
   "metadata": {},
   "outputs": [
    {
     "data": {
      "text/plain": [
       "16"
      ]
     },
     "execution_count": 13,
     "metadata": {},
     "output_type": "execute_result"
    }
   ],
   "source": [
    "(lambda x: x**2)(4) # anonymous function"
   ]
  },
  {
   "cell_type": "code",
   "execution_count": 15,
   "metadata": {},
   "outputs": [
    {
     "name": "stdout",
     "output_type": "stream",
     "text": [
      "even\n",
      "odd\n"
     ]
    }
   ],
   "source": [
    "odd_or_even = lambda x: 'even' if x % 2 == 0 else 'odd' # Ternary operator\n",
    "print(odd_or_even(2))\n",
    "print(odd_or_even(3))\n"
   ]
  },
  {
   "cell_type": "code",
   "execution_count": 53,
   "metadata": {},
   "outputs": [
    {
     "name": "stdout",
     "output_type": "stream",
     "text": [
      "[2, 4, 6, 8, 10]\n"
     ]
    }
   ],
   "source": [
    "# Take a list of integers nums and leave only even numbers\n",
    "get_even = lambda nums: [i for i in nums if i%2==0 ]\n",
    "print(get_even([1, 2, 3, 4, 5, 6, 7, 8, 9, 10]))"
   ]
  },
  {
   "cell_type": "code",
   "execution_count": 54,
   "metadata": {},
   "outputs": [
    {
     "name": "stdout",
     "output_type": "stream",
     "text": [
      "['p', 'a']\n"
     ]
    }
   ],
   "source": [
    "# Take strings s1, s2 and list their common characters\n",
    "common_chars = lambda x,y: list(set(x) & set(y))\n",
    "print(common_chars('pasta', 'pizza'))"
   ]
  },
  {
   "cell_type": "markdown",
   "metadata": {},
   "source": [
    "Exercise: Converting functions to lambda expressions"
   ]
  },
  {
   "cell_type": "code",
   "execution_count": 55,
   "metadata": {},
   "outputs": [
    {
     "name": "stdout",
     "output_type": "stream",
     "text": [
      "5, 5\n",
      "5, 5\n"
     ]
    }
   ],
   "source": [
    "# Returns a bigger of the two numbers\n",
    "def func1(x, y):\n",
    "    if x >= y:\n",
    "        return x\n",
    "\n",
    "    return y\n",
    "\n",
    "# Convert func1() to a lambda expression\n",
    "lambda1 = lambda x,y: x if x>=y else y\n",
    "print(str(func1(5, 4)) + ', ' + str(lambda1(5, 4)))\n",
    "print(str(func1(4, 5)) + ', ' + str(lambda1(4, 5)))"
   ]
  },
  {
   "cell_type": "code",
   "execution_count": 57,
   "metadata": {},
   "outputs": [
    {
     "name": "stdout",
     "output_type": "stream",
     "text": [
      "{'m': 1, 'C': 1, 'a': 3, 'D': 1, 'p': 1, 't': 1}\n",
      "{'m': 1, 'C': 1, 'a': 3, 'D': 1, 'p': 1, 't': 1}\n"
     ]
    }
   ],
   "source": [
    "# Returns a dictionary counting characters in a string\n",
    "def func2(s):\n",
    "    d = dict()\n",
    "    for c in set(s):\n",
    "        d[c] = s.count(c)\n",
    "\n",
    "    return d\n",
    "\n",
    "# Convert func2() to a lambda expression\n",
    "lambda2 = lambda s: dict((c, s.count(c)) for c in set(s)) \n",
    "print(func2('DataCamp'))\n",
    "print(lambda2('DataCamp'))"
   ]
  },
  {
   "cell_type": "code",
   "execution_count": 59,
   "metadata": {},
   "outputs": [
    {
     "name": "stdout",
     "output_type": "stream",
     "text": [
      "5.0, 5.0\n",
      "7.0710678118654755, 7.0710678118654755\n"
     ]
    }
   ],
   "source": [
    "import math\n",
    "# Returns a squared root of a sum of squared numbers\n",
    "def func3(*nums):\n",
    "    squared_nums = [n**2 for n in nums]\n",
    "    sum_squared_nums = sum(squared_nums)\n",
    "\n",
    "    return math.sqrt(sum_squared_nums)\n",
    "# Convert func3() to a lambda expression\n",
    "lambda3 = lambda *nums: math.sqrt(sum([n**2 for n in nums]))\n",
    "print(str(func3(3, 4)) + ', ' + str(lambda3(3, 4)))\n",
    "print(str(func3(3, 4, 5)) + ', ' + str(lambda3(3, 4, 5)))"
   ]
  },
  {
   "cell_type": "markdown",
   "metadata": {},
   "source": [
    "## Map()\n",
    "\n",
    "The `map` function applies a given function to all items in an iterable and returns an iterable/iterator of the results.\n",
    "\n",
    "**Syntax**\n",
    "\n",
    "```\n",
    "map(function(x1, x2, ...), Iterable1, Iterable2, ...)\n",
    "```\n",
    "```\n",
    "Iterables: [1, 2, 3, 4, 5] , [10, 20, 30, 40, 50] , ...\n",
    "1 , 10 , ... → function(1, 10, ...) → new object\n",
    "2 , 20 , ... → function(2, 20, ...) → new object\n",
    "3 , 30 , ... → function(3, 30, ...) → new object\n",
    "4 , 40 , ... → function(4, 40, ...) → new object\n",
    "5 , 50 , ... → function(5, 50, ...) → new object\n",
    "```"
   ]
  },
  {
   "cell_type": "code",
   "execution_count": 22,
   "metadata": {},
   "outputs": [
    {
     "name": "stdout",
     "output_type": "stream",
     "text": [
      "<map object at 0x107fcb250>\n",
      "[1, 4, 9, 16, 25]\n"
     ]
    }
   ],
   "source": [
    "nums = [1, 2, 3, 4, 5]  \n",
    "squares = map(lambda x: x**2, nums)\n",
    "print(squares)\n",
    "print(list(squares)) # Output: [1, 4, 9, 16, 25] #squares is iterable"
   ]
  },
  {
   "cell_type": "code",
   "execution_count": 27,
   "metadata": {},
   "outputs": [
    {
     "name": "stdout",
     "output_type": "stream",
     "text": [
      "1\n",
      "4\n",
      "9\n",
      "16\n",
      "25\n"
     ]
    }
   ],
   "source": [
    "squares = map(lambda x: x**2, nums) # squares is an iterator\n",
    "print(next(squares))\n",
    "print(next(squares))\n",
    "print(next(squares))\n",
    "print(next(squares))\n",
    "print(next(squares))\n"
   ]
  },
  {
   "cell_type": "code",
   "execution_count": 28,
   "metadata": {},
   "outputs": [
    {
     "name": "stdout",
     "output_type": "stream",
     "text": [
      "[6, 14, 24, 36, 50]\n"
     ]
    }
   ],
   "source": [
    "# map with multiple iterables\n",
    "nums1 = [1, 2, 3, 4, 5]\n",
    "nums2 = [6, 7, 8, 9, 10]\n",
    "vertor_product = map(lambda x, y: x * y, nums1, nums2)\n",
    "print(list(vertor_product)) # Output: [6, 14, 24, 36, 50]\n"
   ]
  },
  {
   "cell_type": "code",
   "execution_count": null,
   "metadata": {},
   "outputs": [],
   "source": []
  },
  {
   "cell_type": "markdown",
   "metadata": {},
   "source": [
    "## Filter()\n",
    "\n",
    "The `filter` function applies a given function to all items in an input iterable and returns an iterable of the items that satisfy the condition.\n",
    "\n",
    "**Syntax**\n",
    "\n",
    "```\n",
    "filter(function(x), Iterable)\n",
    "```\n",
    "```\n",
    "Iterable: [1, 2, 3, 4, 5]\n",
    "1 → function(1) → True → 1 is kept\n",
    "2 → function(2) → False → 2 is rejected\n",
    "3 → function(3) → True → 3 is kept\n",
    "4 → function(4) → False → 4 is rejected\n",
    "5 → function(5) → True → 5 is kept\n",
    "```"
   ]
  },
  {
   "cell_type": "code",
   "execution_count": 29,
   "metadata": {},
   "outputs": [
    {
     "name": "stdout",
     "output_type": "stream",
     "text": [
      "[1, 2, 3]\n"
     ]
    }
   ],
   "source": [
    "nums = [-3, -2, -1, 0, 1, 2, 3]\n",
    "\n",
    "# The task is to get: [1, 2, 3]\n",
    "\n",
    "positive_nums = filter(lambda x: x > 0, nums)\n",
    "print(list(positive_nums)) # Output: [1, 2, 3]"
   ]
  },
  {
   "cell_type": "code",
   "execution_count": 32,
   "metadata": {},
   "outputs": [
    {
     "name": "stdout",
     "output_type": "stream",
     "text": [
      "1\n",
      "2\n",
      "3\n"
     ]
    }
   ],
   "source": [
    "positive_nums = filter(lambda x: x > 0, nums) # positive_nums is an iterator\n",
    "print(next(positive_nums)) # 1\n",
    "print(next(positive_nums)) # 2\n",
    "print(next(positive_nums)) # 3"
   ]
  },
  {
   "cell_type": "markdown",
   "metadata": {},
   "source": [
    "## Reduce()\n",
    "\n",
    "The `reduce` function applies a given function to all items in an iterable and returns a single result.\n",
    "\n",
    "**Syntax**\n",
    "\n",
    "```\n",
    "from functools import reduce\n",
    "reduce(function(x, y), Iterable)\n",
    "```\n",
    "```\n",
    "Iterable: [1, 2, 3, 4, 5]\n",
    "[1, 2, 3, 4, 5] → new object of the same type as the content\n",
    "```\n",
    "![How reduce() works](../imgs/reduce_func.png)\n"
   ]
  },
  {
   "cell_type": "code",
   "execution_count": 34,
   "metadata": {},
   "outputs": [
    {
     "data": {
      "text/plain": [
       "1"
      ]
     },
     "execution_count": 34,
     "metadata": {},
     "output_type": "execute_result"
    }
   ],
   "source": [
    "from functools import reduce\n",
    "nums = [8, 4, 5, 1, 9]\n",
    "\n",
    "# The task is to get: minimum\n",
    "def smallest(x, y):\n",
    "    if x < y:\n",
    "        return x\n",
    "    else:\n",
    "        return y\n",
    "\n",
    "reduce(smallest, nums)"
   ]
  },
  {
   "cell_type": "code",
   "execution_count": 35,
   "metadata": {},
   "outputs": [
    {
     "data": {
      "text/plain": [
       "1"
      ]
     },
     "execution_count": 35,
     "metadata": {},
     "output_type": "execute_result"
    }
   ],
   "source": [
    "# using lambda\n",
    "reduce(lambda x, y: x if x < y else y, nums)\n"
   ]
  },
  {
   "cell_type": "markdown",
   "metadata": {},
   "source": [
    "## Recursion\n",
    "\n",
    "Recursion is a process where a function calls itself directly or indirectly. It is used to solve problems that can be broken down into smaller instances of the same problem."
   ]
  },
  {
   "cell_type": "markdown",
   "metadata": {},
   "source": [
    "Recursive functions have two main components:\n",
    "- a recursive call to a smaller problem of itself\n",
    "- a base case that prevents an infinite calling"
   ]
  },
  {
   "cell_type": "markdown",
   "metadata": {},
   "source": [
    "**Factorial Example**\n",
    "\n",
    "n! = n ⋅ (n− 1) ⋅ (n− 2) ⋅ ... ⋅ 1"
   ]
  },
  {
   "cell_type": "code",
   "execution_count": 39,
   "metadata": {},
   "outputs": [
    {
     "name": "stdout",
     "output_type": "stream",
     "text": [
      "120\n"
     ]
    }
   ],
   "source": [
    "# Iterative approach\n",
    "def factorial(n):\n",
    "    result = 1\n",
    "    for i in range(1, n+1):\n",
    "        result = result * i\n",
    "    return result\n",
    "\n",
    "print(factorial(5)) # Output: 120"
   ]
  },
  {
   "cell_type": "code",
   "execution_count": 40,
   "metadata": {},
   "outputs": [
    {
     "name": "stdout",
     "output_type": "stream",
     "text": [
      "120\n"
     ]
    }
   ],
   "source": [
    "# Recursive approach\n",
    "def factorial(n):\n",
    "    if n == 1:\n",
    "        return 1\n",
    "    else:\n",
    "        return n * factorial(n-1)\n",
    "\n",
    "print(factorial(5)) # Output: 120"
   ]
  },
  {
   "cell_type": "markdown",
   "metadata": {},
   "source": [
    "**Fibonacci Example**"
   ]
  },
  {
   "cell_type": "code",
   "execution_count": 41,
   "metadata": {},
   "outputs": [
    {
     "name": "stdout",
     "output_type": "stream",
     "text": [
      "8\n"
     ]
    }
   ],
   "source": [
    "def fibonacci(n):\n",
    "    if n <= 1:\n",
    "        return n\n",
    "    else:\n",
    "        return fibonacci(n-1) + fibonacci(n-2)\n",
    "\n",
    "print(fibonacci(6)) # Output: 8"
   ]
  },
  {
   "cell_type": "markdown",
   "metadata": {},
   "source": [
    "**Calculate the number of function calls**\n",
    "\n",
    "Let's consider a classic example of recursion – the Fibonacci sequence, represented by non-negative integers starting from 0 with each element `F(n)` equals the sum of the preceding two: 0, 1, 1, 2, 3, 5, 8, 13, 21, .... You are given a function that returns a tuple with the n-th element of the sequence and the amount of calls to fib() used.\n",
    "\n",
    "How many calls to fib() are needed to calculate the 15th and 20th elements of the sequence?"
   ]
  },
  {
   "cell_type": "code",
   "execution_count": 64,
   "metadata": {},
   "outputs": [
    {
     "name": "stdout",
     "output_type": "stream",
     "text": [
      "(610, 1973)\n",
      "(6765, 21891)\n"
     ]
    }
   ],
   "source": [
    "def fib(n):\n",
    "\n",
    "  if n < 2:\n",
    "    return (n, 1)\n",
    "\n",
    "  fib1 = fib(n-1)\n",
    "  fib2 = fib(n-2)\n",
    "\n",
    "  return (fib1[0] + fib2[0], fib1[1] + fib2[1] + 1)\n",
    "\n",
    "print(fib(15))\n",
    "print(fib(20))"
   ]
  },
  {
   "cell_type": "markdown",
   "metadata": {},
   "source": [
    "Notice how big the difference is in function calls, even though they are only 5 indices away from each other. Therefore, recursion has to be used with caution. Too many calls can lead to memory errors."
   ]
  }
 ],
 "metadata": {
  "kernelspec": {
   "display_name": "advanced-python-coding-QfLDxTC9-py3.11",
   "language": "python",
   "name": "python3"
  },
  "language_info": {
   "codemirror_mode": {
    "name": "ipython",
    "version": 3
   },
   "file_extension": ".py",
   "mimetype": "text/x-python",
   "name": "python",
   "nbconvert_exporter": "python",
   "pygments_lexer": "ipython3",
   "version": "3.11.3"
  }
 },
 "nbformat": 4,
 "nbformat_minor": 2
}
